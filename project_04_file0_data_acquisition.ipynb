{
 "cells": [
  {
   "cell_type": "markdown",
   "metadata": {},
   "source": [
    "# Project 04 Data Acquisition"
   ]
  },
  {
   "cell_type": "code",
   "execution_count": 2,
   "metadata": {},
   "outputs": [],
   "source": [
    "import twint\n",
    "import numpy as np\n",
    "import pandas as pd\n",
    "import nest_asyncio\n",
    "nest_asyncio.apply()"
   ]
  },
  {
   "cell_type": "code",
   "execution_count": 3,
   "metadata": {},
   "outputs": [],
   "source": [
    "import functools"
   ]
  },
  {
   "cell_type": "code",
   "execution_count": 4,
   "metadata": {},
   "outputs": [],
   "source": [
    "from sklearn.feature_extraction.text import CountVectorizer \n",
    "from sklearn.decomposition import NMF"
   ]
  },
  {
   "cell_type": "code",
   "execution_count": 5,
   "metadata": {},
   "outputs": [
    {
     "data": {
      "text/html": [
       "<style>.container { width:95% !important; }</style>"
      ],
      "text/plain": [
       "<IPython.core.display.HTML object>"
      ]
     },
     "metadata": {},
     "output_type": "display_data"
    }
   ],
   "source": [
    "# Make better use of Jupyter Notebook cell width\n",
    "from IPython.core.display import display, HTML\n",
    "display(HTML(\"<style>.container { width:95% !important; }</style>\"))\n",
    "\n",
    "pd.set_option('display.max_rows', 500)\n",
    "pd.set_option('display.max_columns', 500)\n",
    "pd.set_option('display.max_colwidth', 400)\n",
    "pd.options.display.float_format = '{:,.10f}'.format"
   ]
  },
  {
   "cell_type": "markdown",
   "metadata": {},
   "source": [
    "## Pull in sample data from Twitter using Twint\n",
    "...showing sample extracts below"
   ]
  },
  {
   "cell_type": "code",
   "execution_count": null,
   "metadata": {},
   "outputs": [],
   "source": [
    "#configuration\n",
    "config = twint.Config()\n",
    "config.Search = \"@VAVetBenefits\"\n",
    "config.Lang = \"en\"\n",
    "config.Limit = 1000\n",
    "#config.Since = '2020–12–18'\n",
    "#config.Until = time_until\n",
    "config.Store_csv = True\n",
    "config.Output = \"custom_out_vba_sample.csv\"\n",
    "\n",
    "#running search\n",
    "twint.run.Search(config)"
   ]
  },
  {
   "cell_type": "code",
   "execution_count": null,
   "metadata": {},
   "outputs": [],
   "source": [
    "#configuration\n",
    "config = twint.Config()\n",
    "config.Search = \"@DeptVetAffairs\"\n",
    "config.Lang = \"en\"\n",
    "config.Limit = 1000\n",
    "#config.Since = '2020–12–18'\n",
    "#config.Until = time_until\n",
    "config.Store_csv = True\n",
    "config.Output = \"custom_out_VA_sample.csv\"\n",
    "\n",
    "#running search\n",
    "twint.run.Search(config)"
   ]
  },
  {
   "cell_type": "code",
   "execution_count": null,
   "metadata": {
    "scrolled": false
   },
   "outputs": [],
   "source": [
    "#configuration\n",
    "config = twint.Config()\n",
    "config.Search = \"@VeteransHealth\"\n",
    "config.Lang = \"en\"\n",
    "config.Limit = 1000\n",
    "#config.Since = '2020–12–18'\n",
    "#config.Until = time_until\n",
    "config.Store_csv = True\n",
    "config.Output = \"custom_out_VHA_sample2.csv\"\n",
    "\n",
    "#running search\n",
    "vha_sample = twint.run.Search(config)"
   ]
  },
  {
   "cell_type": "markdown",
   "metadata": {},
   "source": [
    "## Create Combined Dataset "
   ]
  },
  {
   "cell_type": "code",
   "execution_count": 6,
   "metadata": {},
   "outputs": [],
   "source": [
    "vba_full = pd.read_csv('/Users/arcarter/Git_Repos/project_04/custom_out_vba.csv')  "
   ]
  },
  {
   "cell_type": "code",
   "execution_count": 7,
   "metadata": {},
   "outputs": [
    {
     "name": "stderr",
     "output_type": "stream",
     "text": [
      "/Users/arcarter/opt/anaconda3/lib/python3.8/site-packages/IPython/core/interactiveshell.py:3146: DtypeWarning: Columns (22) have mixed types.Specify dtype option on import or set low_memory=False.\n",
      "  has_raised = await self.run_ast_nodes(code_ast.body, cell_name,\n"
     ]
    }
   ],
   "source": [
    "vha_full = pd.read_csv('/Users/arcarter/Git_Repos/project_04/custom_out_VHA.csv')"
   ]
  },
  {
   "cell_type": "code",
   "execution_count": 8,
   "metadata": {},
   "outputs": [],
   "source": [
    "va_full = pd.read_csv('/Users/arcarter/Git_Repos/project_04/custom_out_VA.csv')"
   ]
  },
  {
   "cell_type": "code",
   "execution_count": 9,
   "metadata": {},
   "outputs": [
    {
     "data": {
      "text/plain": [
       "(112091, 36)"
      ]
     },
     "execution_count": 9,
     "metadata": {},
     "output_type": "execute_result"
    }
   ],
   "source": [
    "va_full.shape"
   ]
  },
  {
   "cell_type": "markdown",
   "metadata": {},
   "source": [
    "## Create new columns for VBA vs VHA vs VA Tweets \n",
    "(Allowing multiple to be selected for same tweet)"
   ]
  },
  {
   "cell_type": "code",
   "execution_count": 10,
   "metadata": {},
   "outputs": [],
   "source": [
    "vba_full['VBA Tweet'] = 'Yes'"
   ]
  },
  {
   "cell_type": "code",
   "execution_count": 11,
   "metadata": {},
   "outputs": [],
   "source": [
    "vba_full_slim = pd.DataFrame(vba_full[[\"tweet\", \"id\",\"username\",\"name\",\"date\",\"time\",\"VBA Tweet\"]])"
   ]
  },
  {
   "cell_type": "code",
   "execution_count": 12,
   "metadata": {},
   "outputs": [],
   "source": [
    "vha_full['VHA Tweet'] = 'Yes'"
   ]
  },
  {
   "cell_type": "code",
   "execution_count": 13,
   "metadata": {},
   "outputs": [],
   "source": [
    "vha_full_slim = pd.DataFrame(vha_full[[\"tweet\", \"id\",\"username\",\"name\",\"date\",\"time\",\"VHA Tweet\"]])"
   ]
  },
  {
   "cell_type": "code",
   "execution_count": 14,
   "metadata": {},
   "outputs": [],
   "source": [
    "va_full['VA Tweet'] = 'Yes'"
   ]
  },
  {
   "cell_type": "code",
   "execution_count": 15,
   "metadata": {},
   "outputs": [],
   "source": [
    "va_full_slim = pd.DataFrame(va_full[[\"tweet\", \"id\",\"username\",\"name\",\"date\",\"time\",\"VA Tweet\"]])"
   ]
  },
  {
   "cell_type": "code",
   "execution_count": 16,
   "metadata": {},
   "outputs": [],
   "source": [
    "vba_cols = list(vba_full_slim.columns) \n",
    "vha_cols = list(vha_full_slim.columns) \n",
    "va_cols = list(va_full_slim.columns) "
   ]
  },
  {
   "cell_type": "code",
   "execution_count": 17,
   "metadata": {},
   "outputs": [],
   "source": [
    "no_tweet_vba = vba_cols[:-1]"
   ]
  },
  {
   "cell_type": "code",
   "execution_count": 18,
   "metadata": {},
   "outputs": [],
   "source": [
    "no_tweet_vha = vha_cols[:-1]"
   ]
  },
  {
   "cell_type": "code",
   "execution_count": 19,
   "metadata": {},
   "outputs": [],
   "source": [
    "no_tweet_va = va_cols[:-1]"
   ]
  },
  {
   "cell_type": "markdown",
   "metadata": {},
   "source": [
    "## Merge all versions\n",
    "...and clean up shared columns"
   ]
  },
  {
   "cell_type": "code",
   "execution_count": 20,
   "metadata": {},
   "outputs": [],
   "source": [
    "merged_all_slim = pd.merge(left=vba_full_slim, right=va_full_slim, how='outer', left_on=no_tweet_vba, right_on=no_tweet_va)\n",
    "merged_all_slim.sample(10);"
   ]
  },
  {
   "cell_type": "code",
   "execution_count": 42,
   "metadata": {},
   "outputs": [
    {
     "data": {
      "text/plain": [
       "(123692, 8)"
      ]
     },
     "execution_count": 42,
     "metadata": {},
     "output_type": "execute_result"
    }
   ],
   "source": [
    "merged_all_slim.shape"
   ]
  },
  {
   "cell_type": "code",
   "execution_count": 43,
   "metadata": {},
   "outputs": [
    {
     "data": {
      "text/plain": [
       "(34, 8)"
      ]
     },
     "execution_count": 43,
     "metadata": {},
     "output_type": "execute_result"
    }
   ],
   "source": [
    "merged_all_slim[merged_all_slim.username.str.contains(\"revolutapp\")].shape"
   ]
  },
  {
   "cell_type": "code",
   "execution_count": 44,
   "metadata": {},
   "outputs": [],
   "source": [
    "merged_all_slim = merged_all_slim[~merged_all_slim.username.str.contains(\"revolutapp\")]"
   ]
  },
  {
   "cell_type": "code",
   "execution_count": 45,
   "metadata": {},
   "outputs": [
    {
     "data": {
      "text/plain": [
       "(123658, 8)"
      ]
     },
     "execution_count": 45,
     "metadata": {},
     "output_type": "execute_result"
    }
   ],
   "source": [
    "merged_all_slim.shape"
   ]
  },
  {
   "cell_type": "code",
   "execution_count": null,
   "metadata": {},
   "outputs": [],
   "source": []
  },
  {
   "cell_type": "code",
   "execution_count": 57,
   "metadata": {
    "scrolled": true
   },
   "outputs": [],
   "source": [
    "merged_all_w_vha_slim = pd.merge(left=merged_all_slim, right=vha_full_slim, how='outer', left_on=no_tweet_vba, right_on=no_tweet_vha)"
   ]
  },
  {
   "cell_type": "code",
   "execution_count": 58,
   "metadata": {},
   "outputs": [
    {
     "data": {
      "text/html": [
       "<div>\n",
       "<style scoped>\n",
       "    .dataframe tbody tr th:only-of-type {\n",
       "        vertical-align: middle;\n",
       "    }\n",
       "\n",
       "    .dataframe tbody tr th {\n",
       "        vertical-align: top;\n",
       "    }\n",
       "\n",
       "    .dataframe thead th {\n",
       "        text-align: right;\n",
       "    }\n",
       "</style>\n",
       "<table border=\"1\" class=\"dataframe\">\n",
       "  <thead>\n",
       "    <tr style=\"text-align: right;\">\n",
       "      <th></th>\n",
       "      <th>tweet</th>\n",
       "      <th>id</th>\n",
       "      <th>username</th>\n",
       "      <th>name</th>\n",
       "      <th>date</th>\n",
       "      <th>time</th>\n",
       "      <th>VBA Tweet</th>\n",
       "      <th>VA Tweet</th>\n",
       "      <th>VHA Tweet</th>\n",
       "    </tr>\n",
       "  </thead>\n",
       "  <tbody>\n",
       "    <tr>\n",
       "      <th>0</th>\n",
       "      <td>@RevolutApp can i have a response</td>\n",
       "      <td>1361860276115636224</td>\n",
       "      <td>ugurpacaci1</td>\n",
       "      <td>Ugur Pacaci</td>\n",
       "      <td>2021-02-16</td>\n",
       "      <td>21:09:26</td>\n",
       "      <td>Yes</td>\n",
       "      <td>NaN</td>\n",
       "      <td>NaN</td>\n",
       "    </tr>\n",
       "    <tr>\n",
       "      <th>1</th>\n",
       "      <td>@RevolutApp hi.. Can someone who is in the UK as a tourist sign up for Revolut virtual card?</td>\n",
       "      <td>1361856147553148931</td>\n",
       "      <td>dr_kazi_uddin</td>\n",
       "      <td>Dr. Kazi Uddin</td>\n",
       "      <td>2021-02-16</td>\n",
       "      <td>20:53:02</td>\n",
       "      <td>Yes</td>\n",
       "      <td>NaN</td>\n",
       "      <td>NaN</td>\n",
       "    </tr>\n",
       "    <tr>\n",
       "      <th>2</th>\n",
       "      <td>@RevolutApp Yess</td>\n",
       "      <td>1361851928402145281</td>\n",
       "      <td>ayakaaa89711346</td>\n",
       "      <td>Ayakaaa</td>\n",
       "      <td>2021-02-16</td>\n",
       "      <td>20:36:16</td>\n",
       "      <td>Yes</td>\n",
       "      <td>NaN</td>\n",
       "      <td>NaN</td>\n",
       "    </tr>\n",
       "    <tr>\n",
       "      <th>3</th>\n",
       "      <td>@RevolutApp Please help I can’t sign in to my app!!!</td>\n",
       "      <td>1361851688357920768</td>\n",
       "      <td>ayakaaa89711346</td>\n",
       "      <td>Ayakaaa</td>\n",
       "      <td>2021-02-16</td>\n",
       "      <td>20:35:19</td>\n",
       "      <td>Yes</td>\n",
       "      <td>NaN</td>\n",
       "      <td>NaN</td>\n",
       "    </tr>\n",
       "    <tr>\n",
       "      <th>4</th>\n",
       "      <td>@RevolutApp This is what you say every time and nothing gets sorted</td>\n",
       "      <td>1361842815500759043</td>\n",
       "      <td>partiean</td>\n",
       "      <td>✨</td>\n",
       "      <td>2021-02-16</td>\n",
       "      <td>20:00:03</td>\n",
       "      <td>Yes</td>\n",
       "      <td>NaN</td>\n",
       "      <td>NaN</td>\n",
       "    </tr>\n",
       "  </tbody>\n",
       "</table>\n",
       "</div>"
      ],
      "text/plain": [
       "                                                                                          tweet  \\\n",
       "0                                                             @RevolutApp can i have a response   \n",
       "1  @RevolutApp hi.. Can someone who is in the UK as a tourist sign up for Revolut virtual card?   \n",
       "2                                                                              @RevolutApp Yess   \n",
       "3                                          @RevolutApp Please help I can’t sign in to my app!!!   \n",
       "4                           @RevolutApp This is what you say every time and nothing gets sorted   \n",
       "\n",
       "                    id         username            name        date      time  \\\n",
       "0  1361860276115636224      ugurpacaci1     Ugur Pacaci  2021-02-16  21:09:26   \n",
       "1  1361856147553148931    dr_kazi_uddin  Dr. Kazi Uddin  2021-02-16  20:53:02   \n",
       "2  1361851928402145281  ayakaaa89711346         Ayakaaa  2021-02-16  20:36:16   \n",
       "3  1361851688357920768  ayakaaa89711346         Ayakaaa  2021-02-16  20:35:19   \n",
       "4  1361842815500759043         partiean               ✨  2021-02-16  20:00:03   \n",
       "\n",
       "  VBA Tweet VA Tweet VHA Tweet  \n",
       "0       Yes      NaN       NaN  \n",
       "1       Yes      NaN       NaN  \n",
       "2       Yes      NaN       NaN  \n",
       "3       Yes      NaN       NaN  \n",
       "4       Yes      NaN       NaN  "
      ]
     },
     "execution_count": 58,
     "metadata": {},
     "output_type": "execute_result"
    }
   ],
   "source": [
    "merged_all_w_vha_slim.head(5)"
   ]
  },
  {
   "cell_type": "code",
   "execution_count": 59,
   "metadata": {},
   "outputs": [
    {
     "data": {
      "text/plain": [
       "(219778, 9)"
      ]
     },
     "execution_count": 59,
     "metadata": {},
     "output_type": "execute_result"
    }
   ],
   "source": [
    "merged_all_w_vha_slim.shape"
   ]
  },
  {
   "cell_type": "code",
   "execution_count": 60,
   "metadata": {},
   "outputs": [],
   "source": [
    "merged_all_w_vha_slim = merged_all_w_vha_slim[~merged_all_w_vha_slim.tweet.str.contains(\"RevolutApp\")]\n",
    "merged_all_w_vha_slim = merged_all_w_vha_slim[~merged_all_w_vha_slim.username.str.contains(\"revolutapp\")]"
   ]
  },
  {
   "cell_type": "code",
   "execution_count": 61,
   "metadata": {},
   "outputs": [
    {
     "data": {
      "text/plain": [
       "(219712, 9)"
      ]
     },
     "execution_count": 61,
     "metadata": {},
     "output_type": "execute_result"
    }
   ],
   "source": [
    "merged_all_w_vha_slim.shape"
   ]
  },
  {
   "cell_type": "code",
   "execution_count": 62,
   "metadata": {},
   "outputs": [],
   "source": [
    "merged_all_w_vha_slim.loc[merged_all_w_vha_slim['VBA Tweet'] == 'Yes', 'VBA Tweet'] = 1\n",
    "merged_all_w_vha_slim.loc[merged_all_w_vha_slim['VA Tweet'] == 'Yes', 'VA Tweet'] = 1\n",
    "merged_all_w_vha_slim.loc[merged_all_w_vha_slim['VHA Tweet'] == 'Yes', 'VHA Tweet'] = 1"
   ]
  },
  {
   "cell_type": "code",
   "execution_count": 63,
   "metadata": {},
   "outputs": [],
   "source": [
    "merged_all_w_vha_slim['VBA Tweet'] = merged_all_w_vha_slim['VBA Tweet'].fillna(0)\n",
    "merged_all_w_vha_slim['VA Tweet'] = merged_all_w_vha_slim['VA Tweet'].fillna(0)\n",
    "merged_all_w_vha_slim['VHA Tweet'] = merged_all_w_vha_slim['VHA Tweet'].fillna(0)"
   ]
  },
  {
   "cell_type": "code",
   "execution_count": 64,
   "metadata": {},
   "outputs": [
    {
     "data": {
      "text/html": [
       "<div>\n",
       "<style scoped>\n",
       "    .dataframe tbody tr th:only-of-type {\n",
       "        vertical-align: middle;\n",
       "    }\n",
       "\n",
       "    .dataframe tbody tr th {\n",
       "        vertical-align: top;\n",
       "    }\n",
       "\n",
       "    .dataframe thead th {\n",
       "        text-align: right;\n",
       "    }\n",
       "</style>\n",
       "<table border=\"1\" class=\"dataframe\">\n",
       "  <thead>\n",
       "    <tr style=\"text-align: right;\">\n",
       "      <th></th>\n",
       "      <th>tweet</th>\n",
       "      <th>id</th>\n",
       "      <th>username</th>\n",
       "      <th>name</th>\n",
       "      <th>date</th>\n",
       "      <th>time</th>\n",
       "      <th>VBA Tweet</th>\n",
       "      <th>VA Tweet</th>\n",
       "      <th>VHA Tweet</th>\n",
       "    </tr>\n",
       "  </thead>\n",
       "  <tbody>\n",
       "    <tr>\n",
       "      <th>66</th>\n",
       "      <td>@VAVetBenefits  https://t.co/EdaCJSlLFI Mr. Secretary McDonough: Good afternoon. As you can see from my attached documentation, I have been fighting this issue of changing my discharge due to systemic racism for over 2 years.  https://t.co/w58TgWxkUF</td>\n",
       "      <td>1361866444410155013</td>\n",
       "      <td>clickforjustice</td>\n",
       "      <td>clickforjustice</td>\n",
       "      <td>2021-02-16</td>\n",
       "      <td>21:33:57</td>\n",
       "      <td>1</td>\n",
       "      <td>0</td>\n",
       "      <td>0</td>\n",
       "    </tr>\n",
       "    <tr>\n",
       "      <th>67</th>\n",
       "      <td>@VAVetBenefits  https://t.co/EdaCJSlLFI Mr. Secretary McDonough: Good afternoon. As you can see from my attached documentation, I have been fighting this issue of changing my discharge due to systemic racism for over 2 years.  https://t.co/w58TgWxkUF</td>\n",
       "      <td>1361866444410155013</td>\n",
       "      <td>clickforjustice</td>\n",
       "      <td>clickforjustice</td>\n",
       "      <td>2021-02-16</td>\n",
       "      <td>21:33:57</td>\n",
       "      <td>1</td>\n",
       "      <td>0</td>\n",
       "      <td>0</td>\n",
       "    </tr>\n",
       "    <tr>\n",
       "      <th>68</th>\n",
       "      <td>@VAVetBenefits  https://t.co/EdaCJSlLFI Mr. Secretary McDonough: Good afternoon. As you can see from my attached documentation, I have been fighting this issue of changing my discharge due to systemic racism for over 2 years.  https://t.co/w58TgWxkUF</td>\n",
       "      <td>1361866444410155013</td>\n",
       "      <td>clickforjustice</td>\n",
       "      <td>clickforjustice</td>\n",
       "      <td>2021-02-16</td>\n",
       "      <td>21:33:57</td>\n",
       "      <td>1</td>\n",
       "      <td>0</td>\n",
       "      <td>0</td>\n",
       "    </tr>\n",
       "    <tr>\n",
       "      <th>69</th>\n",
       "      <td>@VAVetBenefits  https://t.co/EdaCJSlLFI Mr. Secretary McDonough: Good afternoon. As you can see from my attached documentation, I have been fighting this issue of changing my discharge due to systemic racism for over 2 years.  https://t.co/w58TgWxkUF</td>\n",
       "      <td>1361866444410155013</td>\n",
       "      <td>clickforjustice</td>\n",
       "      <td>clickforjustice</td>\n",
       "      <td>2021-02-16</td>\n",
       "      <td>21:33:57</td>\n",
       "      <td>1</td>\n",
       "      <td>0</td>\n",
       "      <td>0</td>\n",
       "    </tr>\n",
       "    <tr>\n",
       "      <th>70</th>\n",
       "      <td>RT @VAVetBenefits : (2/2) In 2014, Howard became the first female four-star Admiral &amp;amp; the first to command operational forces, making her the highest ranking woman &amp;amp; African-American in Navy history. After a remarkable career, Adm. Howard retired in 2017. Thank you for your …</td>\n",
       "      <td>1361854662488555525</td>\n",
       "      <td>lccc_sva</td>\n",
       "      <td>LCCC SVA</td>\n",
       "      <td>2021-02-16</td>\n",
       "      <td>20:47:08</td>\n",
       "      <td>1</td>\n",
       "      <td>0</td>\n",
       "      <td>0</td>\n",
       "    </tr>\n",
       "  </tbody>\n",
       "</table>\n",
       "</div>"
      ],
      "text/plain": [
       "                                                                                                                                                                                                                                                                                           tweet  \\\n",
       "66                                    @VAVetBenefits  https://t.co/EdaCJSlLFI Mr. Secretary McDonough: Good afternoon. As you can see from my attached documentation, I have been fighting this issue of changing my discharge due to systemic racism for over 2 years.  https://t.co/w58TgWxkUF   \n",
       "67                                    @VAVetBenefits  https://t.co/EdaCJSlLFI Mr. Secretary McDonough: Good afternoon. As you can see from my attached documentation, I have been fighting this issue of changing my discharge due to systemic racism for over 2 years.  https://t.co/w58TgWxkUF   \n",
       "68                                    @VAVetBenefits  https://t.co/EdaCJSlLFI Mr. Secretary McDonough: Good afternoon. As you can see from my attached documentation, I have been fighting this issue of changing my discharge due to systemic racism for over 2 years.  https://t.co/w58TgWxkUF   \n",
       "69                                    @VAVetBenefits  https://t.co/EdaCJSlLFI Mr. Secretary McDonough: Good afternoon. As you can see from my attached documentation, I have been fighting this issue of changing my discharge due to systemic racism for over 2 years.  https://t.co/w58TgWxkUF   \n",
       "70  RT @VAVetBenefits : (2/2) In 2014, Howard became the first female four-star Admiral &amp; the first to command operational forces, making her the highest ranking woman &amp; African-American in Navy history. After a remarkable career, Adm. Howard retired in 2017. Thank you for your …   \n",
       "\n",
       "                     id         username             name        date  \\\n",
       "66  1361866444410155013  clickforjustice  clickforjustice  2021-02-16   \n",
       "67  1361866444410155013  clickforjustice  clickforjustice  2021-02-16   \n",
       "68  1361866444410155013  clickforjustice  clickforjustice  2021-02-16   \n",
       "69  1361866444410155013  clickforjustice  clickforjustice  2021-02-16   \n",
       "70  1361854662488555525         lccc_sva         LCCC SVA  2021-02-16   \n",
       "\n",
       "        time  VBA Tweet  VA Tweet  VHA Tweet  \n",
       "66  21:33:57          1         0          0  \n",
       "67  21:33:57          1         0          0  \n",
       "68  21:33:57          1         0          0  \n",
       "69  21:33:57          1         0          0  \n",
       "70  20:47:08          1         0          0  "
      ]
     },
     "execution_count": 64,
     "metadata": {},
     "output_type": "execute_result"
    }
   ],
   "source": [
    "merged_all_w_vha_slim.head(5)"
   ]
  },
  {
   "cell_type": "code",
   "execution_count": 73,
   "metadata": {},
   "outputs": [
    {
     "data": {
      "text/html": [
       "<div>\n",
       "<style scoped>\n",
       "    .dataframe tbody tr th:only-of-type {\n",
       "        vertical-align: middle;\n",
       "    }\n",
       "\n",
       "    .dataframe tbody tr th {\n",
       "        vertical-align: top;\n",
       "    }\n",
       "\n",
       "    .dataframe thead th {\n",
       "        text-align: right;\n",
       "    }\n",
       "</style>\n",
       "<table border=\"1\" class=\"dataframe\">\n",
       "  <thead>\n",
       "    <tr style=\"text-align: right;\">\n",
       "      <th></th>\n",
       "      <th>tweet</th>\n",
       "      <th>id</th>\n",
       "      <th>username</th>\n",
       "      <th>name</th>\n",
       "      <th>date</th>\n",
       "      <th>time</th>\n",
       "      <th>VBA Tweet</th>\n",
       "      <th>VA Tweet</th>\n",
       "      <th>VHA Tweet</th>\n",
       "    </tr>\n",
       "  </thead>\n",
       "  <tbody>\n",
       "    <tr>\n",
       "      <th>1768</th>\n",
       "      <td>@ConcernedVets @DeptVetAffairs @HouseVetAffairs @VAVetBenefits @SpecialReport @RepCharlieCrist @SenRickScott @marcorubio @TB_Times @realannapaulina Pls clarify those Florida news reports on Vets’ income and Covid vaccine access. Thank you.</td>\n",
       "      <td>1352587376791588868</td>\n",
       "      <td>247fubar</td>\n",
       "      <td>Gary</td>\n",
       "      <td>2021-01-22</td>\n",
       "      <td>07:02:15</td>\n",
       "      <td>1</td>\n",
       "      <td>1</td>\n",
       "      <td>0</td>\n",
       "    </tr>\n",
       "    <tr>\n",
       "      <th>1769</th>\n",
       "      <td>@ConcernedVets @DeptVetAffairs @HouseVetAffairs @VAVetBenefits @SpecialReport @RepCharlieCrist @SenRickScott @marcorubio @TB_Times @realannapaulina Pls clarify those Florida news reports on Vets’ income and Covid vaccine access. Thank you.</td>\n",
       "      <td>1352587376791588868</td>\n",
       "      <td>247fubar</td>\n",
       "      <td>Gary</td>\n",
       "      <td>2021-01-22</td>\n",
       "      <td>07:02:15</td>\n",
       "      <td>1</td>\n",
       "      <td>1</td>\n",
       "      <td>0</td>\n",
       "    </tr>\n",
       "    <tr>\n",
       "      <th>1770</th>\n",
       "      <td>@ConcernedVets @DeptVetAffairs @HouseVetAffairs @VAVetBenefits @SpecialReport @RepCharlieCrist @SenRickScott @marcorubio @TB_Times @realannapaulina Pls clarify those Florida news reports on Vets’ income and Covid vaccine access. Thank you.</td>\n",
       "      <td>1352587376791588868</td>\n",
       "      <td>247fubar</td>\n",
       "      <td>Gary</td>\n",
       "      <td>2021-01-22</td>\n",
       "      <td>07:02:15</td>\n",
       "      <td>1</td>\n",
       "      <td>1</td>\n",
       "      <td>0</td>\n",
       "    </tr>\n",
       "    <tr>\n",
       "      <th>1771</th>\n",
       "      <td>@ConcernedVets @DeptVetAffairs @HouseVetAffairs @VAVetBenefits @SpecialReport @RepCharlieCrist @SenRickScott @marcorubio @TB_Times @realannapaulina Pls clarify those Florida news reports on Vets’ income and Covid vaccine access. Thank you.</td>\n",
       "      <td>1352587376791588868</td>\n",
       "      <td>247fubar</td>\n",
       "      <td>Gary</td>\n",
       "      <td>2021-01-22</td>\n",
       "      <td>07:02:15</td>\n",
       "      <td>1</td>\n",
       "      <td>1</td>\n",
       "      <td>0</td>\n",
       "    </tr>\n",
       "  </tbody>\n",
       "</table>\n",
       "</div>"
      ],
      "text/plain": [
       "                                                                                                                                                                                                                                                tweet  \\\n",
       "1768  @ConcernedVets @DeptVetAffairs @HouseVetAffairs @VAVetBenefits @SpecialReport @RepCharlieCrist @SenRickScott @marcorubio @TB_Times @realannapaulina Pls clarify those Florida news reports on Vets’ income and Covid vaccine access. Thank you.   \n",
       "1769  @ConcernedVets @DeptVetAffairs @HouseVetAffairs @VAVetBenefits @SpecialReport @RepCharlieCrist @SenRickScott @marcorubio @TB_Times @realannapaulina Pls clarify those Florida news reports on Vets’ income and Covid vaccine access. Thank you.   \n",
       "1770  @ConcernedVets @DeptVetAffairs @HouseVetAffairs @VAVetBenefits @SpecialReport @RepCharlieCrist @SenRickScott @marcorubio @TB_Times @realannapaulina Pls clarify those Florida news reports on Vets’ income and Covid vaccine access. Thank you.   \n",
       "1771  @ConcernedVets @DeptVetAffairs @HouseVetAffairs @VAVetBenefits @SpecialReport @RepCharlieCrist @SenRickScott @marcorubio @TB_Times @realannapaulina Pls clarify those Florida news reports on Vets’ income and Covid vaccine access. Thank you.   \n",
       "\n",
       "                       id  username  name        date      time  VBA Tweet  \\\n",
       "1768  1352587376791588868  247fubar  Gary  2021-01-22  07:02:15          1   \n",
       "1769  1352587376791588868  247fubar  Gary  2021-01-22  07:02:15          1   \n",
       "1770  1352587376791588868  247fubar  Gary  2021-01-22  07:02:15          1   \n",
       "1771  1352587376791588868  247fubar  Gary  2021-01-22  07:02:15          1   \n",
       "\n",
       "      VA Tweet  VHA Tweet  \n",
       "1768         1          0  \n",
       "1769         1          0  \n",
       "1770         1          0  \n",
       "1771         1          0  "
      ]
     },
     "execution_count": 73,
     "metadata": {},
     "output_type": "execute_result"
    }
   ],
   "source": [
    "merged_all_w_vha_slim[merged_all_w_vha_slim['username'].str.contains(\"247fubar\")].head(100)"
   ]
  },
  {
   "cell_type": "markdown",
   "metadata": {},
   "source": [
    "## Send version to CSV\n",
    "...and Pickle"
   ]
  },
  {
   "cell_type": "code",
   "execution_count": 65,
   "metadata": {},
   "outputs": [],
   "source": [
    "merged_all_w_vha_slim.to_csv(index=False,path_or_buf='/Users/arcarter/Git_Repos/project_04/merged_all_w_vha_slim.csv')"
   ]
  },
  {
   "cell_type": "code",
   "execution_count": 66,
   "metadata": {},
   "outputs": [
    {
     "data": {
      "text/plain": [
       "(219712, 9)"
      ]
     },
     "execution_count": 66,
     "metadata": {},
     "output_type": "execute_result"
    }
   ],
   "source": [
    "merged_all_w_vha_slim.shape"
   ]
  },
  {
   "cell_type": "code",
   "execution_count": 67,
   "metadata": {},
   "outputs": [],
   "source": [
    "import pickle"
   ]
  },
  {
   "cell_type": "code",
   "execution_count": 68,
   "metadata": {},
   "outputs": [],
   "source": [
    "pickle.dump(merged_all_w_vha_slim, open(\"merged_all_w_vha_slim.p\", \"wb\" ) )"
   ]
  },
  {
   "cell_type": "code",
   "execution_count": 69,
   "metadata": {},
   "outputs": [],
   "source": [
    "merged_all_w_vha_slim_pickle = pickle.load( open( \"merged_all_w_vha_slim.p\", \"rb\" ) )"
   ]
  },
  {
   "cell_type": "code",
   "execution_count": 70,
   "metadata": {},
   "outputs": [
    {
     "data": {
      "text/html": [
       "<div>\n",
       "<style scoped>\n",
       "    .dataframe tbody tr th:only-of-type {\n",
       "        vertical-align: middle;\n",
       "    }\n",
       "\n",
       "    .dataframe tbody tr th {\n",
       "        vertical-align: top;\n",
       "    }\n",
       "\n",
       "    .dataframe thead th {\n",
       "        text-align: right;\n",
       "    }\n",
       "</style>\n",
       "<table border=\"1\" class=\"dataframe\">\n",
       "  <thead>\n",
       "    <tr style=\"text-align: right;\">\n",
       "      <th></th>\n",
       "      <th>tweet</th>\n",
       "      <th>id</th>\n",
       "      <th>username</th>\n",
       "      <th>name</th>\n",
       "      <th>date</th>\n",
       "      <th>time</th>\n",
       "      <th>VBA Tweet</th>\n",
       "      <th>VA Tweet</th>\n",
       "      <th>VHA Tweet</th>\n",
       "    </tr>\n",
       "  </thead>\n",
       "  <tbody>\n",
       "    <tr>\n",
       "      <th>66</th>\n",
       "      <td>@VAVetBenefits  https://t.co/EdaCJSlLFI Mr. Secretary McDonough: Good afternoon. As you can see from my attached documentation, I have been fighting this issue of changing my discharge due to systemic racism for over 2 years.  https://t.co/w58TgWxkUF</td>\n",
       "      <td>1361866444410155013</td>\n",
       "      <td>clickforjustice</td>\n",
       "      <td>clickforjustice</td>\n",
       "      <td>2021-02-16</td>\n",
       "      <td>21:33:57</td>\n",
       "      <td>1</td>\n",
       "      <td>0</td>\n",
       "      <td>0</td>\n",
       "    </tr>\n",
       "    <tr>\n",
       "      <th>67</th>\n",
       "      <td>@VAVetBenefits  https://t.co/EdaCJSlLFI Mr. Secretary McDonough: Good afternoon. As you can see from my attached documentation, I have been fighting this issue of changing my discharge due to systemic racism for over 2 years.  https://t.co/w58TgWxkUF</td>\n",
       "      <td>1361866444410155013</td>\n",
       "      <td>clickforjustice</td>\n",
       "      <td>clickforjustice</td>\n",
       "      <td>2021-02-16</td>\n",
       "      <td>21:33:57</td>\n",
       "      <td>1</td>\n",
       "      <td>0</td>\n",
       "      <td>0</td>\n",
       "    </tr>\n",
       "    <tr>\n",
       "      <th>68</th>\n",
       "      <td>@VAVetBenefits  https://t.co/EdaCJSlLFI Mr. Secretary McDonough: Good afternoon. As you can see from my attached documentation, I have been fighting this issue of changing my discharge due to systemic racism for over 2 years.  https://t.co/w58TgWxkUF</td>\n",
       "      <td>1361866444410155013</td>\n",
       "      <td>clickforjustice</td>\n",
       "      <td>clickforjustice</td>\n",
       "      <td>2021-02-16</td>\n",
       "      <td>21:33:57</td>\n",
       "      <td>1</td>\n",
       "      <td>0</td>\n",
       "      <td>0</td>\n",
       "    </tr>\n",
       "    <tr>\n",
       "      <th>69</th>\n",
       "      <td>@VAVetBenefits  https://t.co/EdaCJSlLFI Mr. Secretary McDonough: Good afternoon. As you can see from my attached documentation, I have been fighting this issue of changing my discharge due to systemic racism for over 2 years.  https://t.co/w58TgWxkUF</td>\n",
       "      <td>1361866444410155013</td>\n",
       "      <td>clickforjustice</td>\n",
       "      <td>clickforjustice</td>\n",
       "      <td>2021-02-16</td>\n",
       "      <td>21:33:57</td>\n",
       "      <td>1</td>\n",
       "      <td>0</td>\n",
       "      <td>0</td>\n",
       "    </tr>\n",
       "    <tr>\n",
       "      <th>70</th>\n",
       "      <td>RT @VAVetBenefits : (2/2) In 2014, Howard became the first female four-star Admiral &amp;amp; the first to command operational forces, making her the highest ranking woman &amp;amp; African-American in Navy history. After a remarkable career, Adm. Howard retired in 2017. Thank you for your …</td>\n",
       "      <td>1361854662488555525</td>\n",
       "      <td>lccc_sva</td>\n",
       "      <td>LCCC SVA</td>\n",
       "      <td>2021-02-16</td>\n",
       "      <td>20:47:08</td>\n",
       "      <td>1</td>\n",
       "      <td>0</td>\n",
       "      <td>0</td>\n",
       "    </tr>\n",
       "  </tbody>\n",
       "</table>\n",
       "</div>"
      ],
      "text/plain": [
       "                                                                                                                                                                                                                                                                                           tweet  \\\n",
       "66                                    @VAVetBenefits  https://t.co/EdaCJSlLFI Mr. Secretary McDonough: Good afternoon. As you can see from my attached documentation, I have been fighting this issue of changing my discharge due to systemic racism for over 2 years.  https://t.co/w58TgWxkUF   \n",
       "67                                    @VAVetBenefits  https://t.co/EdaCJSlLFI Mr. Secretary McDonough: Good afternoon. As you can see from my attached documentation, I have been fighting this issue of changing my discharge due to systemic racism for over 2 years.  https://t.co/w58TgWxkUF   \n",
       "68                                    @VAVetBenefits  https://t.co/EdaCJSlLFI Mr. Secretary McDonough: Good afternoon. As you can see from my attached documentation, I have been fighting this issue of changing my discharge due to systemic racism for over 2 years.  https://t.co/w58TgWxkUF   \n",
       "69                                    @VAVetBenefits  https://t.co/EdaCJSlLFI Mr. Secretary McDonough: Good afternoon. As you can see from my attached documentation, I have been fighting this issue of changing my discharge due to systemic racism for over 2 years.  https://t.co/w58TgWxkUF   \n",
       "70  RT @VAVetBenefits : (2/2) In 2014, Howard became the first female four-star Admiral &amp; the first to command operational forces, making her the highest ranking woman &amp; African-American in Navy history. After a remarkable career, Adm. Howard retired in 2017. Thank you for your …   \n",
       "\n",
       "                     id         username             name        date  \\\n",
       "66  1361866444410155013  clickforjustice  clickforjustice  2021-02-16   \n",
       "67  1361866444410155013  clickforjustice  clickforjustice  2021-02-16   \n",
       "68  1361866444410155013  clickforjustice  clickforjustice  2021-02-16   \n",
       "69  1361866444410155013  clickforjustice  clickforjustice  2021-02-16   \n",
       "70  1361854662488555525         lccc_sva         LCCC SVA  2021-02-16   \n",
       "\n",
       "        time  VBA Tweet  VA Tweet  VHA Tweet  \n",
       "66  21:33:57          1         0          0  \n",
       "67  21:33:57          1         0          0  \n",
       "68  21:33:57          1         0          0  \n",
       "69  21:33:57          1         0          0  \n",
       "70  20:47:08          1         0          0  "
      ]
     },
     "execution_count": 70,
     "metadata": {},
     "output_type": "execute_result"
    }
   ],
   "source": [
    "merged_all_w_vha_slim.head()"
   ]
  },
  {
   "cell_type": "code",
   "execution_count": null,
   "metadata": {},
   "outputs": [],
   "source": []
  },
  {
   "cell_type": "code",
   "execution_count": null,
   "metadata": {},
   "outputs": [],
   "source": []
  }
 ],
 "metadata": {
  "kernelspec": {
   "display_name": "Python 3",
   "language": "python",
   "name": "python3"
  },
  "language_info": {
   "codemirror_mode": {
    "name": "ipython",
    "version": 3
   },
   "file_extension": ".py",
   "mimetype": "text/x-python",
   "name": "python",
   "nbconvert_exporter": "python",
   "pygments_lexer": "ipython3",
   "version": "3.8.5"
  }
 },
 "nbformat": 4,
 "nbformat_minor": 4
}
