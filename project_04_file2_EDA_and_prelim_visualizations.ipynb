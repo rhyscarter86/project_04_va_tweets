{
 "cells": [
  {
   "cell_type": "markdown",
   "metadata": {},
   "source": [
    "# Project 04 EDA and Prelim Visualizations"
   ]
  },
  {
   "cell_type": "code",
   "execution_count": 54,
   "metadata": {},
   "outputs": [],
   "source": [
    "import pickle"
   ]
  },
  {
   "cell_type": "code",
   "execution_count": 55,
   "metadata": {},
   "outputs": [],
   "source": [
    "import pandas as pd\n",
    "import matplotlib.pyplot as plt"
   ]
  },
  {
   "cell_type": "code",
   "execution_count": 56,
   "metadata": {},
   "outputs": [],
   "source": [
    "import datetime\n",
    "import seaborn as sns"
   ]
  },
  {
   "cell_type": "code",
   "execution_count": 57,
   "metadata": {},
   "outputs": [],
   "source": [
    "from datetime import datetime as dt"
   ]
  },
  {
   "cell_type": "markdown",
   "metadata": {},
   "source": [
    "### Load in Data Frame\n",
    "...commented out elements for re-runs if needed"
   ]
  },
  {
   "cell_type": "code",
   "execution_count": 58,
   "metadata": {
    "scrolled": true
   },
   "outputs": [],
   "source": [
    "df_tweets_final_processed = pickle.load( open( \"df_tweets_final_processed.p\", \"rb\" ) )"
   ]
  },
  {
   "cell_type": "code",
   "execution_count": 59,
   "metadata": {},
   "outputs": [
    {
     "data": {
      "text/plain": [
       "(198669, 9)"
      ]
     },
     "execution_count": 59,
     "metadata": {},
     "output_type": "execute_result"
    }
   ],
   "source": [
    "df_tweets_final_processed.shape"
   ]
  },
  {
   "cell_type": "code",
   "execution_count": 44,
   "metadata": {},
   "outputs": [],
   "source": [
    "#df_tweets_final.drop(df_tweets_final.iloc[:, 8:9], inplace = True, axis = 1)"
   ]
  },
  {
   "cell_type": "code",
   "execution_count": 60,
   "metadata": {},
   "outputs": [
    {
     "data": {
      "text/html": [
       "<div>\n",
       "<style scoped>\n",
       "    .dataframe tbody tr th:only-of-type {\n",
       "        vertical-align: middle;\n",
       "    }\n",
       "\n",
       "    .dataframe tbody tr th {\n",
       "        vertical-align: top;\n",
       "    }\n",
       "\n",
       "    .dataframe thead th {\n",
       "        text-align: right;\n",
       "    }\n",
       "</style>\n",
       "<table border=\"1\" class=\"dataframe\">\n",
       "  <thead>\n",
       "    <tr style=\"text-align: right;\">\n",
       "      <th></th>\n",
       "      <th>tweet</th>\n",
       "      <th>id</th>\n",
       "      <th>username</th>\n",
       "      <th>name</th>\n",
       "      <th>date</th>\n",
       "      <th>time</th>\n",
       "      <th>VBA Tweet</th>\n",
       "      <th>VA Tweet</th>\n",
       "      <th>VHA Tweet</th>\n",
       "    </tr>\n",
       "  </thead>\n",
       "  <tbody>\n",
       "    <tr>\n",
       "      <th>66</th>\n",
       "      <td>Veterans_Benefits_Admin   mr secretary mcdono...</td>\n",
       "      <td>1361866444410155013</td>\n",
       "      <td>clickforjustice</td>\n",
       "      <td>clickforjustice</td>\n",
       "      <td>2021-02-16</td>\n",
       "      <td>21:33:57</td>\n",
       "      <td>1</td>\n",
       "      <td>0</td>\n",
       "      <td>0</td>\n",
       "    </tr>\n",
       "    <tr>\n",
       "      <th>70</th>\n",
       "      <td>Veterans_Benefits_Admin   in  howard became th...</td>\n",
       "      <td>1361854662488555525</td>\n",
       "      <td>lccc_sva</td>\n",
       "      <td>LCCC SVA</td>\n",
       "      <td>2021-02-16</td>\n",
       "      <td>20:47:08</td>\n",
       "      <td>1</td>\n",
       "      <td>0</td>\n",
       "      <td>0</td>\n",
       "    </tr>\n",
       "    <tr>\n",
       "      <th>74</th>\n",
       "      <td>Veterans_Benefits_Admin   vbatribute  trailbla...</td>\n",
       "      <td>1361854659409965057</td>\n",
       "      <td>lccc_sva</td>\n",
       "      <td>LCCC SVA</td>\n",
       "      <td>2021-02-16</td>\n",
       "      <td>20:47:07</td>\n",
       "      <td>1</td>\n",
       "      <td>0</td>\n",
       "      <td>0</td>\n",
       "    </tr>\n",
       "    <tr>\n",
       "      <th>78</th>\n",
       "      <td>in  howard became the first female fourstar a...</td>\n",
       "      <td>1361842314264502273</td>\n",
       "      <td>vavetbenefits</td>\n",
       "      <td>Veterans Benefits</td>\n",
       "      <td>2021-02-16</td>\n",
       "      <td>19:58:04</td>\n",
       "      <td>1</td>\n",
       "      <td>0</td>\n",
       "      <td>0</td>\n",
       "    </tr>\n",
       "    <tr>\n",
       "      <th>82</th>\n",
       "      <td>vbatribute  trailblazer michelle howard set m...</td>\n",
       "      <td>1361842311911497731</td>\n",
       "      <td>vavetbenefits</td>\n",
       "      <td>Veterans Benefits</td>\n",
       "      <td>2021-02-16</td>\n",
       "      <td>19:58:03</td>\n",
       "      <td>1</td>\n",
       "      <td>0</td>\n",
       "      <td>0</td>\n",
       "    </tr>\n",
       "    <tr>\n",
       "      <th>86</th>\n",
       "      <td>Veterans_Benefits_Admin are we going to see  ...</td>\n",
       "      <td>1361835874980401153</td>\n",
       "      <td>papalima120</td>\n",
       "      <td>🇺🇸Paul L🇺🇸</td>\n",
       "      <td>2021-02-16</td>\n",
       "      <td>19:32:28</td>\n",
       "      <td>1</td>\n",
       "      <td>0</td>\n",
       "      <td>0</td>\n",
       "    </tr>\n",
       "    <tr>\n",
       "      <th>90</th>\n",
       "      <td>triwest  you are contracted with the  Veteran...</td>\n",
       "      <td>1361832899650101255</td>\n",
       "      <td>alyon_advocate</td>\n",
       "      <td>USAAdvocate</td>\n",
       "      <td>2021-02-16</td>\n",
       "      <td>19:20:39</td>\n",
       "      <td>1</td>\n",
       "      <td>0</td>\n",
       "      <td>0</td>\n",
       "    </tr>\n",
       "    <tr>\n",
       "      <th>94</th>\n",
       "      <td>denismcdonough  joebiden  potus  vp  barackob...</td>\n",
       "      <td>1361798977985810432</td>\n",
       "      <td>rex_fogleman</td>\n",
       "      <td>Rex Fogleman</td>\n",
       "      <td>2021-02-16</td>\n",
       "      <td>17:05:52</td>\n",
       "      <td>1</td>\n",
       "      <td>1</td>\n",
       "      <td>0</td>\n",
       "    </tr>\n",
       "    <tr>\n",
       "      <th>102</th>\n",
       "      <td>Veterans_Benefits_Admin  we are the champions...</td>\n",
       "      <td>1361777768132976645</td>\n",
       "      <td>hiramg74466721</td>\n",
       "      <td>Hiram G</td>\n",
       "      <td>2021-02-16</td>\n",
       "      <td>15:41:35</td>\n",
       "      <td>1</td>\n",
       "      <td>0</td>\n",
       "      <td>0</td>\n",
       "    </tr>\n",
       "    <tr>\n",
       "      <th>106</th>\n",
       "      <td>Veterans_Benefits_Admin what is department_of...</td>\n",
       "      <td>1361749129072939012</td>\n",
       "      <td>rebecca_barber2</td>\n",
       "      <td>Rebecca Barber</td>\n",
       "      <td>2021-02-16</td>\n",
       "      <td>13:47:47</td>\n",
       "      <td>1</td>\n",
       "      <td>0</td>\n",
       "      <td>0</td>\n",
       "    </tr>\n",
       "  </tbody>\n",
       "</table>\n",
       "</div>"
      ],
      "text/plain": [
       "                                                 tweet                   id  \\\n",
       "66    Veterans_Benefits_Admin   mr secretary mcdono...  1361866444410155013   \n",
       "70   Veterans_Benefits_Admin   in  howard became th...  1361854662488555525   \n",
       "74   Veterans_Benefits_Admin   vbatribute  trailbla...  1361854659409965057   \n",
       "78    in  howard became the first female fourstar a...  1361842314264502273   \n",
       "82    vbatribute  trailblazer michelle howard set m...  1361842311911497731   \n",
       "86    Veterans_Benefits_Admin are we going to see  ...  1361835874980401153   \n",
       "90    triwest  you are contracted with the  Veteran...  1361832899650101255   \n",
       "94    denismcdonough  joebiden  potus  vp  barackob...  1361798977985810432   \n",
       "102   Veterans_Benefits_Admin  we are the champions...  1361777768132976645   \n",
       "106   Veterans_Benefits_Admin what is department_of...  1361749129072939012   \n",
       "\n",
       "            username               name        date      time  VBA Tweet  \\\n",
       "66   clickforjustice    clickforjustice  2021-02-16  21:33:57          1   \n",
       "70          lccc_sva           LCCC SVA  2021-02-16  20:47:08          1   \n",
       "74          lccc_sva           LCCC SVA  2021-02-16  20:47:07          1   \n",
       "78     vavetbenefits  Veterans Benefits  2021-02-16  19:58:04          1   \n",
       "82     vavetbenefits  Veterans Benefits  2021-02-16  19:58:03          1   \n",
       "86       papalima120         🇺🇸Paul L🇺🇸  2021-02-16  19:32:28          1   \n",
       "90    alyon_advocate        USAAdvocate  2021-02-16  19:20:39          1   \n",
       "94      rex_fogleman       Rex Fogleman  2021-02-16  17:05:52          1   \n",
       "102   hiramg74466721            Hiram G  2021-02-16  15:41:35          1   \n",
       "106  rebecca_barber2     Rebecca Barber  2021-02-16  13:47:47          1   \n",
       "\n",
       "     VA Tweet  VHA Tweet  \n",
       "66          0          0  \n",
       "70          0          0  \n",
       "74          0          0  \n",
       "78          0          0  \n",
       "82          0          0  \n",
       "86          0          0  \n",
       "90          0          0  \n",
       "94          1          0  \n",
       "102         0          0  \n",
       "106         0          0  "
      ]
     },
     "execution_count": 60,
     "metadata": {},
     "output_type": "execute_result"
    }
   ],
   "source": [
    "#df_tweets_final['month_year'] = pd.to_datetime(df_tweets_final['time']).dt.to_period('M')\n",
    "df_tweets_final_processed.head(10)"
   ]
  },
  {
   "cell_type": "markdown",
   "metadata": {},
   "source": [
    "### Add in Date Specifics\n",
    "...key processing step"
   ]
  },
  {
   "cell_type": "code",
   "execution_count": 61,
   "metadata": {},
   "outputs": [],
   "source": [
    "df_tweets_final_processed['date'] = pd.to_datetime(df_tweets_final_processed['date'])"
   ]
  },
  {
   "cell_type": "code",
   "execution_count": 62,
   "metadata": {},
   "outputs": [
    {
     "name": "stderr",
     "output_type": "stream",
     "text": [
      "<ipython-input-62-c5f8d5800ca5>:3: FutureWarning: Series.dt.weekofyear and Series.dt.week have been deprecated.  Please use Series.dt.isocalendar().week instead.\n",
      "  df_tweets_final_processed['week_alt']=df_tweets_final_processed.date.dt.year.astype(str) + '-w' + df_tweets_final_processed.date.dt.week.astype(str)\n"
     ]
    }
   ],
   "source": [
    "df_tweets_final_processed['dow'] = df_tweets_final_processed.date.dt.dayofweek\n",
    "df_tweets_final_processed['week'] = df_tweets_final_processed.date.dt.to_period('W')\n",
    "df_tweets_final_processed['week_alt']=df_tweets_final_processed.date.dt.year.astype(str) + '-w' + df_tweets_final_processed.date.dt.week.astype(str)"
   ]
  },
  {
   "cell_type": "code",
   "execution_count": 63,
   "metadata": {},
   "outputs": [],
   "source": [
    "df_tweets_final_processed['month'] = df_tweets_final_processed['date'].dt.strftime('%Y-%m')"
   ]
  },
  {
   "cell_type": "code",
   "execution_count": 64,
   "metadata": {},
   "outputs": [
    {
     "data": {
      "text/plain": [
       "(198669, 13)"
      ]
     },
     "execution_count": 64,
     "metadata": {},
     "output_type": "execute_result"
    }
   ],
   "source": [
    "df_tweets_final_processed.shape"
   ]
  },
  {
   "cell_type": "code",
   "execution_count": 65,
   "metadata": {},
   "outputs": [],
   "source": [
    "pickle.dump(df_tweets_final_processed, open(\"df_tweets_final_processed_w_dates.p\", \"wb\" ) )"
   ]
  },
  {
   "cell_type": "code",
   "execution_count": 66,
   "metadata": {},
   "outputs": [],
   "source": [
    "df_tweets_final_processed_w_dates = pickle.load( open( \"df_tweets_final_processed_w_dates.p\", \"rb\" ) )"
   ]
  },
  {
   "cell_type": "code",
   "execution_count": 67,
   "metadata": {},
   "outputs": [
    {
     "data": {
      "text/html": [
       "<div>\n",
       "<style scoped>\n",
       "    .dataframe tbody tr th:only-of-type {\n",
       "        vertical-align: middle;\n",
       "    }\n",
       "\n",
       "    .dataframe tbody tr th {\n",
       "        vertical-align: top;\n",
       "    }\n",
       "\n",
       "    .dataframe thead th {\n",
       "        text-align: right;\n",
       "    }\n",
       "</style>\n",
       "<table border=\"1\" class=\"dataframe\">\n",
       "  <thead>\n",
       "    <tr style=\"text-align: right;\">\n",
       "      <th></th>\n",
       "      <th>tweet</th>\n",
       "      <th>id</th>\n",
       "      <th>username</th>\n",
       "      <th>name</th>\n",
       "      <th>date</th>\n",
       "      <th>time</th>\n",
       "      <th>VBA Tweet</th>\n",
       "      <th>VA Tweet</th>\n",
       "      <th>VHA Tweet</th>\n",
       "      <th>dow</th>\n",
       "      <th>week</th>\n",
       "      <th>week_alt</th>\n",
       "      <th>month</th>\n",
       "    </tr>\n",
       "  </thead>\n",
       "  <tbody>\n",
       "    <tr>\n",
       "      <th>66</th>\n",
       "      <td>Veterans_Benefits_Admin   mr secretary mcdono...</td>\n",
       "      <td>1361866444410155013</td>\n",
       "      <td>clickforjustice</td>\n",
       "      <td>clickforjustice</td>\n",
       "      <td>2021-02-16</td>\n",
       "      <td>21:33:57</td>\n",
       "      <td>1</td>\n",
       "      <td>0</td>\n",
       "      <td>0</td>\n",
       "      <td>1</td>\n",
       "      <td>2021-02-15/2021-02-21</td>\n",
       "      <td>2021-w7</td>\n",
       "      <td>2021-02</td>\n",
       "    </tr>\n",
       "    <tr>\n",
       "      <th>70</th>\n",
       "      <td>Veterans_Benefits_Admin   in  howard became th...</td>\n",
       "      <td>1361854662488555525</td>\n",
       "      <td>lccc_sva</td>\n",
       "      <td>LCCC SVA</td>\n",
       "      <td>2021-02-16</td>\n",
       "      <td>20:47:08</td>\n",
       "      <td>1</td>\n",
       "      <td>0</td>\n",
       "      <td>0</td>\n",
       "      <td>1</td>\n",
       "      <td>2021-02-15/2021-02-21</td>\n",
       "      <td>2021-w7</td>\n",
       "      <td>2021-02</td>\n",
       "    </tr>\n",
       "    <tr>\n",
       "      <th>74</th>\n",
       "      <td>Veterans_Benefits_Admin   vbatribute  trailbla...</td>\n",
       "      <td>1361854659409965057</td>\n",
       "      <td>lccc_sva</td>\n",
       "      <td>LCCC SVA</td>\n",
       "      <td>2021-02-16</td>\n",
       "      <td>20:47:07</td>\n",
       "      <td>1</td>\n",
       "      <td>0</td>\n",
       "      <td>0</td>\n",
       "      <td>1</td>\n",
       "      <td>2021-02-15/2021-02-21</td>\n",
       "      <td>2021-w7</td>\n",
       "      <td>2021-02</td>\n",
       "    </tr>\n",
       "    <tr>\n",
       "      <th>78</th>\n",
       "      <td>in  howard became the first female fourstar a...</td>\n",
       "      <td>1361842314264502273</td>\n",
       "      <td>vavetbenefits</td>\n",
       "      <td>Veterans Benefits</td>\n",
       "      <td>2021-02-16</td>\n",
       "      <td>19:58:04</td>\n",
       "      <td>1</td>\n",
       "      <td>0</td>\n",
       "      <td>0</td>\n",
       "      <td>1</td>\n",
       "      <td>2021-02-15/2021-02-21</td>\n",
       "      <td>2021-w7</td>\n",
       "      <td>2021-02</td>\n",
       "    </tr>\n",
       "    <tr>\n",
       "      <th>82</th>\n",
       "      <td>vbatribute  trailblazer michelle howard set m...</td>\n",
       "      <td>1361842311911497731</td>\n",
       "      <td>vavetbenefits</td>\n",
       "      <td>Veterans Benefits</td>\n",
       "      <td>2021-02-16</td>\n",
       "      <td>19:58:03</td>\n",
       "      <td>1</td>\n",
       "      <td>0</td>\n",
       "      <td>0</td>\n",
       "      <td>1</td>\n",
       "      <td>2021-02-15/2021-02-21</td>\n",
       "      <td>2021-w7</td>\n",
       "      <td>2021-02</td>\n",
       "    </tr>\n",
       "  </tbody>\n",
       "</table>\n",
       "</div>"
      ],
      "text/plain": [
       "                                                tweet                   id  \\\n",
       "66   Veterans_Benefits_Admin   mr secretary mcdono...  1361866444410155013   \n",
       "70  Veterans_Benefits_Admin   in  howard became th...  1361854662488555525   \n",
       "74  Veterans_Benefits_Admin   vbatribute  trailbla...  1361854659409965057   \n",
       "78   in  howard became the first female fourstar a...  1361842314264502273   \n",
       "82   vbatribute  trailblazer michelle howard set m...  1361842311911497731   \n",
       "\n",
       "           username               name       date      time  VBA Tweet  \\\n",
       "66  clickforjustice    clickforjustice 2021-02-16  21:33:57          1   \n",
       "70         lccc_sva           LCCC SVA 2021-02-16  20:47:08          1   \n",
       "74         lccc_sva           LCCC SVA 2021-02-16  20:47:07          1   \n",
       "78    vavetbenefits  Veterans Benefits 2021-02-16  19:58:04          1   \n",
       "82    vavetbenefits  Veterans Benefits 2021-02-16  19:58:03          1   \n",
       "\n",
       "    VA Tweet  VHA Tweet  dow                   week week_alt    month  \n",
       "66         0          0    1  2021-02-15/2021-02-21  2021-w7  2021-02  \n",
       "70         0          0    1  2021-02-15/2021-02-21  2021-w7  2021-02  \n",
       "74         0          0    1  2021-02-15/2021-02-21  2021-w7  2021-02  \n",
       "78         0          0    1  2021-02-15/2021-02-21  2021-w7  2021-02  \n",
       "82         0          0    1  2021-02-15/2021-02-21  2021-w7  2021-02  "
      ]
     },
     "execution_count": 67,
     "metadata": {},
     "output_type": "execute_result"
    }
   ],
   "source": [
    "df_tweets_final_processed_w_dates.head()"
   ]
  },
  {
   "cell_type": "markdown",
   "metadata": {},
   "source": [
    "### Create Month Slices"
   ]
  },
  {
   "cell_type": "code",
   "execution_count": 68,
   "metadata": {},
   "outputs": [],
   "source": [
    "df_oct2020_feb2021 = df_tweets_final_processed_w_dates[(df_tweets_final_processed_w_dates['date'] > '2020-9-30')]"
   ]
  },
  {
   "cell_type": "code",
   "execution_count": 69,
   "metadata": {},
   "outputs": [
    {
     "data": {
      "text/plain": [
       "(38653, 13)"
      ]
     },
     "execution_count": 69,
     "metadata": {},
     "output_type": "execute_result"
    }
   ],
   "source": [
    "df_oct2020_feb2021.shape"
   ]
  },
  {
   "cell_type": "code",
   "execution_count": 70,
   "metadata": {},
   "outputs": [],
   "source": [
    "df_aug2020_feb2021 = df_tweets_final_processed_w_dates[(df_tweets_final_processed_w_dates['date'] > '2020-7-31')]"
   ]
  },
  {
   "cell_type": "code",
   "execution_count": 71,
   "metadata": {},
   "outputs": [
    {
     "data": {
      "text/html": [
       "<div>\n",
       "<style scoped>\n",
       "    .dataframe tbody tr th:only-of-type {\n",
       "        vertical-align: middle;\n",
       "    }\n",
       "\n",
       "    .dataframe tbody tr th {\n",
       "        vertical-align: top;\n",
       "    }\n",
       "\n",
       "    .dataframe thead th {\n",
       "        text-align: right;\n",
       "    }\n",
       "</style>\n",
       "<table border=\"1\" class=\"dataframe\">\n",
       "  <thead>\n",
       "    <tr style=\"text-align: right;\">\n",
       "      <th></th>\n",
       "      <th>tweet</th>\n",
       "      <th>id</th>\n",
       "      <th>username</th>\n",
       "      <th>name</th>\n",
       "      <th>date</th>\n",
       "      <th>time</th>\n",
       "      <th>VBA Tweet</th>\n",
       "      <th>VA Tweet</th>\n",
       "      <th>VHA Tweet</th>\n",
       "      <th>dow</th>\n",
       "      <th>week</th>\n",
       "      <th>week_alt</th>\n",
       "      <th>month</th>\n",
       "    </tr>\n",
       "  </thead>\n",
       "  <tbody>\n",
       "    <tr>\n",
       "      <th>66</th>\n",
       "      <td>Veterans_Benefits_Admin   mr secretary mcdono...</td>\n",
       "      <td>1361866444410155013</td>\n",
       "      <td>clickforjustice</td>\n",
       "      <td>clickforjustice</td>\n",
       "      <td>2021-02-16</td>\n",
       "      <td>21:33:57</td>\n",
       "      <td>1</td>\n",
       "      <td>0</td>\n",
       "      <td>0</td>\n",
       "      <td>1</td>\n",
       "      <td>2021-02-15/2021-02-21</td>\n",
       "      <td>2021-w7</td>\n",
       "      <td>2021-02</td>\n",
       "    </tr>\n",
       "    <tr>\n",
       "      <th>70</th>\n",
       "      <td>Veterans_Benefits_Admin   in  howard became th...</td>\n",
       "      <td>1361854662488555525</td>\n",
       "      <td>lccc_sva</td>\n",
       "      <td>LCCC SVA</td>\n",
       "      <td>2021-02-16</td>\n",
       "      <td>20:47:08</td>\n",
       "      <td>1</td>\n",
       "      <td>0</td>\n",
       "      <td>0</td>\n",
       "      <td>1</td>\n",
       "      <td>2021-02-15/2021-02-21</td>\n",
       "      <td>2021-w7</td>\n",
       "      <td>2021-02</td>\n",
       "    </tr>\n",
       "    <tr>\n",
       "      <th>74</th>\n",
       "      <td>Veterans_Benefits_Admin   vbatribute  trailbla...</td>\n",
       "      <td>1361854659409965057</td>\n",
       "      <td>lccc_sva</td>\n",
       "      <td>LCCC SVA</td>\n",
       "      <td>2021-02-16</td>\n",
       "      <td>20:47:07</td>\n",
       "      <td>1</td>\n",
       "      <td>0</td>\n",
       "      <td>0</td>\n",
       "      <td>1</td>\n",
       "      <td>2021-02-15/2021-02-21</td>\n",
       "      <td>2021-w7</td>\n",
       "      <td>2021-02</td>\n",
       "    </tr>\n",
       "    <tr>\n",
       "      <th>78</th>\n",
       "      <td>in  howard became the first female fourstar a...</td>\n",
       "      <td>1361842314264502273</td>\n",
       "      <td>vavetbenefits</td>\n",
       "      <td>Veterans Benefits</td>\n",
       "      <td>2021-02-16</td>\n",
       "      <td>19:58:04</td>\n",
       "      <td>1</td>\n",
       "      <td>0</td>\n",
       "      <td>0</td>\n",
       "      <td>1</td>\n",
       "      <td>2021-02-15/2021-02-21</td>\n",
       "      <td>2021-w7</td>\n",
       "      <td>2021-02</td>\n",
       "    </tr>\n",
       "    <tr>\n",
       "      <th>82</th>\n",
       "      <td>vbatribute  trailblazer michelle howard set m...</td>\n",
       "      <td>1361842311911497731</td>\n",
       "      <td>vavetbenefits</td>\n",
       "      <td>Veterans Benefits</td>\n",
       "      <td>2021-02-16</td>\n",
       "      <td>19:58:03</td>\n",
       "      <td>1</td>\n",
       "      <td>0</td>\n",
       "      <td>0</td>\n",
       "      <td>1</td>\n",
       "      <td>2021-02-15/2021-02-21</td>\n",
       "      <td>2021-w7</td>\n",
       "      <td>2021-02</td>\n",
       "    </tr>\n",
       "  </tbody>\n",
       "</table>\n",
       "</div>"
      ],
      "text/plain": [
       "                                                tweet                   id  \\\n",
       "66   Veterans_Benefits_Admin   mr secretary mcdono...  1361866444410155013   \n",
       "70  Veterans_Benefits_Admin   in  howard became th...  1361854662488555525   \n",
       "74  Veterans_Benefits_Admin   vbatribute  trailbla...  1361854659409965057   \n",
       "78   in  howard became the first female fourstar a...  1361842314264502273   \n",
       "82   vbatribute  trailblazer michelle howard set m...  1361842311911497731   \n",
       "\n",
       "           username               name       date      time  VBA Tweet  \\\n",
       "66  clickforjustice    clickforjustice 2021-02-16  21:33:57          1   \n",
       "70         lccc_sva           LCCC SVA 2021-02-16  20:47:08          1   \n",
       "74         lccc_sva           LCCC SVA 2021-02-16  20:47:07          1   \n",
       "78    vavetbenefits  Veterans Benefits 2021-02-16  19:58:04          1   \n",
       "82    vavetbenefits  Veterans Benefits 2021-02-16  19:58:03          1   \n",
       "\n",
       "    VA Tweet  VHA Tweet  dow                   week week_alt    month  \n",
       "66         0          0    1  2021-02-15/2021-02-21  2021-w7  2021-02  \n",
       "70         0          0    1  2021-02-15/2021-02-21  2021-w7  2021-02  \n",
       "74         0          0    1  2021-02-15/2021-02-21  2021-w7  2021-02  \n",
       "78         0          0    1  2021-02-15/2021-02-21  2021-w7  2021-02  \n",
       "82         0          0    1  2021-02-15/2021-02-21  2021-w7  2021-02  "
      ]
     },
     "execution_count": 71,
     "metadata": {},
     "output_type": "execute_result"
    }
   ],
   "source": [
    "df_aug2020_feb2021.head()"
   ]
  },
  {
   "cell_type": "code",
   "execution_count": 72,
   "metadata": {},
   "outputs": [],
   "source": [
    "pickle.dump(df_oct2020_feb2021, open(\"df_oct2020_feb2021.p\", \"wb\" ) )"
   ]
  },
  {
   "cell_type": "code",
   "execution_count": 73,
   "metadata": {},
   "outputs": [],
   "source": [
    "df_oct2020_feb2021 = pickle.load( open( \"df_oct2020_feb2021.p\", \"rb\" ) )"
   ]
  },
  {
   "cell_type": "code",
   "execution_count": 74,
   "metadata": {},
   "outputs": [],
   "source": [
    "pickle.dump(df_aug2020_feb2021, open(\"df_aug2020_feb2021.p\", \"wb\" ) )"
   ]
  },
  {
   "cell_type": "code",
   "execution_count": 75,
   "metadata": {},
   "outputs": [],
   "source": [
    "df_aug2020_feb2021 = pickle.load( open( \"df_aug2020_feb2021.p\", \"rb\" ) )"
   ]
  },
  {
   "cell_type": "code",
   "execution_count": 76,
   "metadata": {},
   "outputs": [
    {
     "data": {
      "text/plain": [
       "(56827, 13)"
      ]
     },
     "execution_count": 76,
     "metadata": {},
     "output_type": "execute_result"
    }
   ],
   "source": [
    "df_aug2020_feb2021.shape"
   ]
  },
  {
   "cell_type": "markdown",
   "metadata": {},
   "source": [
    "### Create basic EDA Graphics\n",
    "...with additional graphics available at https://public.tableau.com/profile/rhys.carter#!/"
   ]
  },
  {
   "cell_type": "code",
   "execution_count": 88,
   "metadata": {},
   "outputs": [
    {
     "data": {
      "text/plain": [
       "<Figure size 1152x432 with 0 Axes>"
      ]
     },
     "execution_count": 88,
     "metadata": {},
     "output_type": "execute_result"
    },
    {
     "data": {
      "text/plain": [
       "<Figure size 1152x432 with 0 Axes>"
      ]
     },
     "metadata": {},
     "output_type": "display_data"
    }
   ],
   "source": [
    "%matplotlib inline\n",
    "plt.figure(figsize=(16, 6))"
   ]
  },
  {
   "cell_type": "code",
   "execution_count": null,
   "metadata": {},
   "outputs": [],
   "source": [
    "fig, ax = plt.subplots(figsize=fig_dims)\n",
    "sns.countplot(x=\"month\", hue=\"topic_count_10\", data=df_tweets_final, ax=ax)"
   ]
  },
  {
   "cell_type": "code",
   "execution_count": 61,
   "metadata": {},
   "outputs": [
    {
     "data": {
      "text/plain": [
       "<AxesSubplot:xlabel='week', ylabel='count'>"
      ]
     },
     "execution_count": 61,
     "metadata": {},
     "output_type": "execute_result"
    },
    {
     "data": {
      "image/png": "[encoded data removed]",
      "text/plain": [
       "<Figure size 720x288 with 1 Axes>"
      ]
     },
     "metadata": {
      "needs_background": "light"
     },
     "output_type": "display_data"
    }
   ],
   "source": [
    "fig_dims = (10, 4)\n",
    "fig, ax = plt.subplots(figsize=fig_dims)\n",
    "sns.countplot(x=\"week\", hue=\"topic_count_10\", data=df_tweets_final, ax=ax)"
   ]
  },
  {
   "cell_type": "code",
   "execution_count": 63,
   "metadata": {},
   "outputs": [],
   "source": [
    "df_tweets_final = df_tweets_final.sort_values(by=['week'],inplace = True)"
   ]
  },
  {
   "cell_type": "code",
   "execution_count": 56,
   "metadata": {},
   "outputs": [
    {
     "data": {
      "image/png": "[encoded data removed]",
      "text/plain": [
       "<Figure size 432x288 with 1 Axes>"
      ]
     },
     "metadata": {
      "needs_background": "light"
     },
     "output_type": "display_data"
    }
   ],
   "source": [
    "#df_tweets_final.plot(x ='date', y=df_tweets_final['topic_count_10'].value_counts(),kind = 'line')\n",
    "ax = sns.countplot(x=\"week_alt\", hue=\"topic_count_10\", data=df_tweets_final)\n"
   ]
  },
  {
   "cell_type": "code",
   "execution_count": null,
   "metadata": {},
   "outputs": [],
   "source": [
    "data_viz = df_tweets_final.groupby(['year','transaction_type','tier'], as_index=False)['no_of_purchases'].sum()\n",
    "\n",
    "for i in list(data_viz['transaction_type'].unique()):\n",
    "    viz = sns.lineplot(data=data_viz[data_viz['transaction_type'] == i], x='year', y='no_of_purchases', hue='tier')\n",
    "    plt.title(i)\n",
    "    plt.show()"
   ]
  },
  {
   "cell_type": "code",
   "execution_count": 9,
   "metadata": {},
   "outputs": [
    {
     "data": {
      "image/png": "[encoded data removed]",
      "text/plain": [
       "<Figure size 432x288 with 1 Axes>"
      ]
     },
     "metadata": {
      "needs_background": "light"
     },
     "output_type": "display_data"
    }
   ],
   "source": [
    "plt.hist(df_tweets_final[\"topic_count_10\"])\n",
    "plt.title(\"Tweets mentioning candidates\")\n",
    "plt.xlabel(\"Twitter account age in years\")\n",
    "plt.ylabel(\"# of tweets\")\n",
    "plt.show()"
   ]
  },
  {
   "cell_type": "code",
   "execution_count": 70,
   "metadata": {},
   "outputs": [],
   "source": [
    "df_tweets_final['date'] = pd.to_datetime(df_tweets_final['date'])\n",
    "#df_tweets_final.info();"
   ]
  },
  {
   "cell_type": "code",
   "execution_count": 46,
   "metadata": {},
   "outputs": [
    {
     "name": "stderr",
     "output_type": "stream",
     "text": [
      "<ipython-input-46-4a236892f4a7>:2: FutureWarning: Series.dt.weekofyear and Series.dt.week have been deprecated.  Please use Series.dt.isocalendar().week instead.\n",
      "  df_tweets_final.loc[:, 'Week'] = df_tweets_final['date'].dt.week\n"
     ]
    }
   ],
   "source": [
    "# To get the week number of the year\n",
    "df_tweets_final.loc[:, 'Week'] = df_tweets_final['date'].dt.week\n"
   ]
  },
  {
   "cell_type": "code",
   "execution_count": 71,
   "metadata": {},
   "outputs": [
    {
     "name": "stderr",
     "output_type": "stream",
     "text": [
      "<ipython-input-71-2da6c7953af1>:3: FutureWarning: Series.dt.weekofyear and Series.dt.week have been deprecated.  Please use Series.dt.isocalendar().week instead.\n",
      "  df_tweets_final['week_alt']=df_tweets_final.date.dt.year.astype(str) + '-w' + df_tweets_final.date.dt.week.astype(str)\n"
     ]
    }
   ],
   "source": [
    "df_tweets_final['dow'] = df_tweets_final.date.dt.dayofweek\n",
    "df_tweets_final['week'] = df_tweets_final.date.dt.to_period('W')\n",
    "df_tweets_final['week_alt']=df_tweets_final.date.dt.year.astype(str) + '-w' + df_tweets_final.date.dt.week.astype(str)"
   ]
  },
  {
   "cell_type": "code",
   "execution_count": 72,
   "metadata": {},
   "outputs": [
    {
     "data": {
      "text/html": [
       "<div>\n",
       "<style scoped>\n",
       "    .dataframe tbody tr th:only-of-type {\n",
       "        vertical-align: middle;\n",
       "    }\n",
       "\n",
       "    .dataframe tbody tr th {\n",
       "        vertical-align: top;\n",
       "    }\n",
       "\n",
       "    .dataframe thead th {\n",
       "        text-align: right;\n",
       "    }\n",
       "</style>\n",
       "<table border=\"1\" class=\"dataframe\">\n",
       "  <thead>\n",
       "    <tr style=\"text-align: right;\">\n",
       "      <th></th>\n",
       "      <th>tweet</th>\n",
       "      <th>id</th>\n",
       "      <th>date</th>\n",
       "      <th>time</th>\n",
       "      <th>VBA Tweet</th>\n",
       "      <th>VA Tweet</th>\n",
       "      <th>VHA Tweet</th>\n",
       "      <th>topic_count_10</th>\n",
       "      <th>dow</th>\n",
       "      <th>week</th>\n",
       "      <th>week_alt</th>\n",
       "    </tr>\n",
       "  </thead>\n",
       "  <tbody>\n",
       "    <tr>\n",
       "      <th>0</th>\n",
       "      <td>its time for smccvso sanmateoco veterans to ri...</td>\n",
       "      <td>1361892469500121089</td>\n",
       "      <td>2021-02-16</td>\n",
       "      <td>23:17:22</td>\n",
       "      <td>1</td>\n",
       "      <td>NaN</td>\n",
       "      <td>1</td>\n",
       "      <td>1</td>\n",
       "      <td>1</td>\n",
       "      <td>2021-02-15/2021-02-21</td>\n",
       "      <td>2021-w7</td>\n",
       "    </tr>\n",
       "    <tr>\n",
       "      <th>1</th>\n",
       "      <td>there should be another bill that temporarily ...</td>\n",
       "      <td>1361886795932262407</td>\n",
       "      <td>2021-02-16</td>\n",
       "      <td>22:54:49</td>\n",
       "      <td>1</td>\n",
       "      <td>NaN</td>\n",
       "      <td>NaN</td>\n",
       "      <td>6</td>\n",
       "      <td>1</td>\n",
       "      <td>2021-02-15/2021-02-21</td>\n",
       "      <td>2021-w7</td>\n",
       "    </tr>\n",
       "    <tr>\n",
       "      <th>2</th>\n",
       "      <td>Veterans_Benefits_Admin   mr secretary mcdonou...</td>\n",
       "      <td>1361866444410155013</td>\n",
       "      <td>2021-02-16</td>\n",
       "      <td>21:33:57</td>\n",
       "      <td>1</td>\n",
       "      <td>NaN</td>\n",
       "      <td>NaN</td>\n",
       "      <td>3</td>\n",
       "      <td>1</td>\n",
       "      <td>2021-02-15/2021-02-21</td>\n",
       "      <td>2021-w7</td>\n",
       "    </tr>\n",
       "    <tr>\n",
       "      <th>3</th>\n",
       "      <td>Veterans_Benefits_Admin   in  howard became th...</td>\n",
       "      <td>1361854662488555525</td>\n",
       "      <td>2021-02-16</td>\n",
       "      <td>20:47:08</td>\n",
       "      <td>1</td>\n",
       "      <td>NaN</td>\n",
       "      <td>NaN</td>\n",
       "      <td>6</td>\n",
       "      <td>1</td>\n",
       "      <td>2021-02-15/2021-02-21</td>\n",
       "      <td>2021-w7</td>\n",
       "    </tr>\n",
       "    <tr>\n",
       "      <th>4</th>\n",
       "      <td>Veterans_Benefits_Admin  vbatribute  trailblaz...</td>\n",
       "      <td>1361854659409965057</td>\n",
       "      <td>2021-02-16</td>\n",
       "      <td>20:47:07</td>\n",
       "      <td>1</td>\n",
       "      <td>NaN</td>\n",
       "      <td>NaN</td>\n",
       "      <td>4</td>\n",
       "      <td>1</td>\n",
       "      <td>2021-02-15/2021-02-21</td>\n",
       "      <td>2021-w7</td>\n",
       "    </tr>\n",
       "  </tbody>\n",
       "</table>\n",
       "</div>"
      ],
      "text/plain": [
       "                                               tweet                   id  \\\n",
       "0  its time for smccvso sanmateoco veterans to ri...  1361892469500121089   \n",
       "1  there should be another bill that temporarily ...  1361886795932262407   \n",
       "2  Veterans_Benefits_Admin   mr secretary mcdonou...  1361866444410155013   \n",
       "3  Veterans_Benefits_Admin   in  howard became th...  1361854662488555525   \n",
       "4  Veterans_Benefits_Admin  vbatribute  trailblaz...  1361854659409965057   \n",
       "\n",
       "        date      time VBA Tweet VA Tweet VHA Tweet  topic_count_10  dow  \\\n",
       "0 2021-02-16  23:17:22         1      NaN         1               1    1   \n",
       "1 2021-02-16  22:54:49         1      NaN       NaN               6    1   \n",
       "2 2021-02-16  21:33:57         1      NaN       NaN               3    1   \n",
       "3 2021-02-16  20:47:08         1      NaN       NaN               6    1   \n",
       "4 2021-02-16  20:47:07         1      NaN       NaN               4    1   \n",
       "\n",
       "                    week week_alt  \n",
       "0  2021-02-15/2021-02-21  2021-w7  \n",
       "1  2021-02-15/2021-02-21  2021-w7  \n",
       "2  2021-02-15/2021-02-21  2021-w7  \n",
       "3  2021-02-15/2021-02-21  2021-w7  \n",
       "4  2021-02-15/2021-02-21  2021-w7  "
      ]
     },
     "execution_count": 72,
     "metadata": {},
     "output_type": "execute_result"
    }
   ],
   "source": [
    "df_tweets_final.head()"
   ]
  },
  {
   "cell_type": "code",
   "execution_count": null,
   "metadata": {},
   "outputs": [],
   "source": [
    "# Or you can use the line below for the exact output you had\n",
    "#df.loc[:, 'Week'] = df['Date'].dt.week - (df.sort_values(by='Date').iloc[0,0].week)\n",
    "graph = sns.lineplot(data=df_tweets_final,x='Week',y='Ratio')\n",
    "\n",
    "plt.show()"
   ]
  },
  {
   "cell_type": "code",
   "execution_count": null,
   "metadata": {},
   "outputs": [],
   "source": []
  }
 ],
 "metadata": {
  "kernelspec": {
   "display_name": "Python 3",
   "language": "python",
   "name": "python3"
  },
  "language_info": {
   "codemirror_mode": {
    "name": "ipython",
    "version": 3
   },
   "file_extension": ".py",
   "mimetype": "text/x-python",
   "name": "python",
   "nbconvert_exporter": "python",
   "pygments_lexer": "ipython3",
   "version": "3.8.5"
  }
 },
 "nbformat": 4,
 "nbformat_minor": 4
}
