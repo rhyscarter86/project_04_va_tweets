{
 "cells": [
  {
   "cell_type": "markdown",
   "metadata": {},
   "source": [
    "# Project 04 Data Cleaning"
   ]
  },
  {
   "cell_type": "code",
   "execution_count": 41,
   "metadata": {},
   "outputs": [],
   "source": [
    "import pickle"
   ]
  },
  {
   "cell_type": "code",
   "execution_count": 92,
   "metadata": {},
   "outputs": [],
   "source": [
    "merged_all_w_vha_slim_pickle = pickle.load( open( \"merged_all_w_vha_slim.p\", \"rb\" ) )"
   ]
  },
  {
   "cell_type": "code",
   "execution_count": 93,
   "metadata": {},
   "outputs": [],
   "source": [
    "import re\n",
    "import string"
   ]
  },
  {
   "cell_type": "code",
   "execution_count": 94,
   "metadata": {},
   "outputs": [],
   "source": [
    "import pandas as pd"
   ]
  },
  {
   "cell_type": "code",
   "execution_count": 95,
   "metadata": {},
   "outputs": [
    {
     "data": {
      "text/html": [
       "<style>.container { width:95% !important; }</style>"
      ],
      "text/plain": [
       "<IPython.core.display.HTML object>"
      ]
     },
     "metadata": {},
     "output_type": "display_data"
    }
   ],
   "source": [
    "# Make better use of Jupyter Notebook cell width\n",
    "from IPython.core.display import display, HTML\n",
    "display(HTML(\"<style>.container { width:95% !important; }</style>\"))\n",
    "\n",
    "pd.set_option('display.max_rows', 500)\n",
    "pd.set_option('display.max_columns', 500)\n",
    "pd.set_option('display.max_colwidth', 400)\n",
    "pd.options.display.float_format = '{:,.10f}'.format"
   ]
  },
  {
   "cell_type": "markdown",
   "metadata": {},
   "source": [
    "#### Create copies of the base dataframe"
   ]
  },
  {
   "cell_type": "code",
   "execution_count": 96,
   "metadata": {},
   "outputs": [],
   "source": [
    "df_tweets_final = merged_all_w_vha_slim_pickle.copy()"
   ]
  },
  {
   "cell_type": "code",
   "execution_count": 97,
   "metadata": {},
   "outputs": [
    {
     "data": {
      "text/plain": [
       "(219712, 9)"
      ]
     },
     "execution_count": 97,
     "metadata": {},
     "output_type": "execute_result"
    }
   ],
   "source": [
    "df_tweets_final.shape"
   ]
  },
  {
   "cell_type": "code",
   "execution_count": 98,
   "metadata": {
    "scrolled": true
   },
   "outputs": [
    {
     "data": {
      "text/html": [
       "<div>\n",
       "<style scoped>\n",
       "    .dataframe tbody tr th:only-of-type {\n",
       "        vertical-align: middle;\n",
       "    }\n",
       "\n",
       "    .dataframe tbody tr th {\n",
       "        vertical-align: top;\n",
       "    }\n",
       "\n",
       "    .dataframe thead th {\n",
       "        text-align: right;\n",
       "    }\n",
       "</style>\n",
       "<table border=\"1\" class=\"dataframe\">\n",
       "  <thead>\n",
       "    <tr style=\"text-align: right;\">\n",
       "      <th></th>\n",
       "      <th>tweet</th>\n",
       "      <th>id</th>\n",
       "      <th>username</th>\n",
       "      <th>name</th>\n",
       "      <th>date</th>\n",
       "      <th>time</th>\n",
       "      <th>VBA Tweet</th>\n",
       "      <th>VA Tweet</th>\n",
       "      <th>VHA Tweet</th>\n",
       "    </tr>\n",
       "  </thead>\n",
       "  <tbody>\n",
       "    <tr>\n",
       "      <th>66</th>\n",
       "      <td>@VAVetBenefits  https://t.co/EdaCJSlLFI Mr. Secretary McDonough: Good afternoon. As you can see from my attached documentation, I have been fighting this issue of changing my discharge due to systemic racism for over 2 years.  https://t.co/w58TgWxkUF</td>\n",
       "      <td>1361866444410155013</td>\n",
       "      <td>clickforjustice</td>\n",
       "      <td>clickforjustice</td>\n",
       "      <td>2021-02-16</td>\n",
       "      <td>21:33:57</td>\n",
       "      <td>1</td>\n",
       "      <td>0</td>\n",
       "      <td>0</td>\n",
       "    </tr>\n",
       "    <tr>\n",
       "      <th>67</th>\n",
       "      <td>@VAVetBenefits  https://t.co/EdaCJSlLFI Mr. Secretary McDonough: Good afternoon. As you can see from my attached documentation, I have been fighting this issue of changing my discharge due to systemic racism for over 2 years.  https://t.co/w58TgWxkUF</td>\n",
       "      <td>1361866444410155013</td>\n",
       "      <td>clickforjustice</td>\n",
       "      <td>clickforjustice</td>\n",
       "      <td>2021-02-16</td>\n",
       "      <td>21:33:57</td>\n",
       "      <td>1</td>\n",
       "      <td>0</td>\n",
       "      <td>0</td>\n",
       "    </tr>\n",
       "  </tbody>\n",
       "</table>\n",
       "</div>"
      ],
      "text/plain": [
       "                                                                                                                                                                                                                                                         tweet  \\\n",
       "66  @VAVetBenefits  https://t.co/EdaCJSlLFI Mr. Secretary McDonough: Good afternoon. As you can see from my attached documentation, I have been fighting this issue of changing my discharge due to systemic racism for over 2 years.  https://t.co/w58TgWxkUF   \n",
       "67  @VAVetBenefits  https://t.co/EdaCJSlLFI Mr. Secretary McDonough: Good afternoon. As you can see from my attached documentation, I have been fighting this issue of changing my discharge due to systemic racism for over 2 years.  https://t.co/w58TgWxkUF   \n",
       "\n",
       "                     id         username             name        date  \\\n",
       "66  1361866444410155013  clickforjustice  clickforjustice  2021-02-16   \n",
       "67  1361866444410155013  clickforjustice  clickforjustice  2021-02-16   \n",
       "\n",
       "        time  VBA Tweet  VA Tweet  VHA Tweet  \n",
       "66  21:33:57          1         0          0  \n",
       "67  21:33:57          1         0          0  "
      ]
     },
     "execution_count": 98,
     "metadata": {},
     "output_type": "execute_result"
    }
   ],
   "source": [
    "df_tweets_final.head(2)"
   ]
  },
  {
   "cell_type": "code",
   "execution_count": 120,
   "metadata": {},
   "outputs": [
    {
     "data": {
      "text/html": [
       "<div>\n",
       "<style scoped>\n",
       "    .dataframe tbody tr th:only-of-type {\n",
       "        vertical-align: middle;\n",
       "    }\n",
       "\n",
       "    .dataframe tbody tr th {\n",
       "        vertical-align: top;\n",
       "    }\n",
       "\n",
       "    .dataframe thead th {\n",
       "        text-align: right;\n",
       "    }\n",
       "</style>\n",
       "<table border=\"1\" class=\"dataframe\">\n",
       "  <thead>\n",
       "    <tr style=\"text-align: right;\">\n",
       "      <th></th>\n",
       "      <th>tweet</th>\n",
       "      <th>id</th>\n",
       "      <th>username</th>\n",
       "      <th>name</th>\n",
       "      <th>date</th>\n",
       "      <th>time</th>\n",
       "      <th>VBA Tweet</th>\n",
       "      <th>VA Tweet</th>\n",
       "      <th>VHA Tweet</th>\n",
       "    </tr>\n",
       "  </thead>\n",
       "  <tbody>\n",
       "    <tr>\n",
       "      <th>86</th>\n",
       "      <td>Veterans_Benefits_Admin are we going to see  disability claims catch up i understand coronavirus_pandemic ruined a lot but mine has been ongoing since july thanks</td>\n",
       "      <td>1361835874980401153</td>\n",
       "      <td>papalima120</td>\n",
       "      <td>🇺🇸Paul L🇺🇸</td>\n",
       "      <td>2021-02-16</td>\n",
       "      <td>19:32:28</td>\n",
       "      <td>1</td>\n",
       "      <td>0</td>\n",
       "      <td>0</td>\n",
       "    </tr>\n",
       "    <tr>\n",
       "      <th>230</th>\n",
       "      <td>leoshane  theveteransfirm  department_of_va  disabled  veteran that for the last  years have been tormented by the  department_of_va  Veterans_Benefits_Admin  housevetaffairs  memphisvamc there has been much failure cue and oversight on my claims  i’ve not gotten coronavirus_pandemic vaccine yet but i do have a thoracic aortic aneurysms</td>\n",
       "      <td>1361678095183454211</td>\n",
       "      <td>myvetbiz</td>\n",
       "      <td>MyVetBiz</td>\n",
       "      <td>2021-02-16</td>\n",
       "      <td>09:05:31</td>\n",
       "      <td>1</td>\n",
       "      <td>1</td>\n",
       "      <td>0</td>\n",
       "    </tr>\n",
       "    <tr>\n",
       "      <th>454</th>\n",
       "      <td>Veterans_Benefits_Admin  vaveteranssvcs  Veterans_Health_Admin  maziehirono  brianschatz  why did  veteransaffairshawaii keep all coronavirus_pandemic vaccines that were meant to be divided between guam amp cnmi    guamcongressman are you aware of this  veterans tweeps please retweet</td>\n",
       "      <td>1361543215782879233</td>\n",
       "      <td>tsoulrebel671</td>\n",
       "      <td>Tommie/SoulRebel671</td>\n",
       "      <td>2021-02-16</td>\n",
       "      <td>00:09:33</td>\n",
       "      <td>1</td>\n",
       "      <td>0</td>\n",
       "      <td>1</td>\n",
       "    </tr>\n",
       "    <tr>\n",
       "      <th>704</th>\n",
       "      <td>yesterday i went with fellow veteran so he could get coronavirus_pandemic vaccine at  northportvamc never was so impressed in the system they created to get  and  shots no drama  nygovcuomo   nycmayor  department_of_va  Veterans_Benefits_Admin  Veterans_Health_Admin</td>\n",
       "      <td>1360577851137929216</td>\n",
       "      <td>neilecollins</td>\n",
       "      <td>Neil Collins</td>\n",
       "      <td>2021-02-13</td>\n",
       "      <td>08:13:32</td>\n",
       "      <td>1</td>\n",
       "      <td>1</td>\n",
       "      <td>1</td>\n",
       "    </tr>\n",
       "    <tr>\n",
       "      <th>760</th>\n",
       "      <td>please  Veterans_Benefits_Admin  department_of_va allow vet spouses to receive coronavirus_pandemic vaccine at the same time the sponsor does multiple trips to  different places is inefficient and takes more time  presssec  vp  potus consolidate and crunch the virus</td>\n",
       "      <td>1360307023116664832</td>\n",
       "      <td>parkerpmp</td>\n",
       "      <td>Kevin C Parker</td>\n",
       "      <td>2021-02-12</td>\n",
       "      <td>14:17:22</td>\n",
       "      <td>1</td>\n",
       "      <td>1</td>\n",
       "      <td>0</td>\n",
       "    </tr>\n",
       "  </tbody>\n",
       "</table>\n",
       "</div>"
      ],
      "text/plain": [
       "                                                                                                                                                                                                                                                                                                                                                      tweet  \\\n",
       "86                                                                                                                                                                                       Veterans_Benefits_Admin are we going to see  disability claims catch up i understand coronavirus_pandemic ruined a lot but mine has been ongoing since july thanks   \n",
       "230   leoshane  theveteransfirm  department_of_va  disabled  veteran that for the last  years have been tormented by the  department_of_va  Veterans_Benefits_Admin  housevetaffairs  memphisvamc there has been much failure cue and oversight on my claims  i’ve not gotten coronavirus_pandemic vaccine yet but i do have a thoracic aortic aneurysms      \n",
       "454                                                            Veterans_Benefits_Admin  vaveteranssvcs  Veterans_Health_Admin  maziehirono  brianschatz  why did  veteransaffairshawaii keep all coronavirus_pandemic vaccines that were meant to be divided between guam amp cnmi    guamcongressman are you aware of this  veterans tweeps please retweet   \n",
       "704                                                                              yesterday i went with fellow veteran so he could get coronavirus_pandemic vaccine at  northportvamc never was so impressed in the system they created to get  and  shots no drama  nygovcuomo   nycmayor  department_of_va  Veterans_Benefits_Admin  Veterans_Health_Admin   \n",
       "760                                                                              please  Veterans_Benefits_Admin  department_of_va allow vet spouses to receive coronavirus_pandemic vaccine at the same time the sponsor does multiple trips to  different places is inefficient and takes more time  presssec  vp  potus consolidate and crunch the virus   \n",
       "\n",
       "                      id       username                 name        date  \\\n",
       "86   1361835874980401153    papalima120           🇺🇸Paul L🇺🇸  2021-02-16   \n",
       "230  1361678095183454211       myvetbiz             MyVetBiz  2021-02-16   \n",
       "454  1361543215782879233  tsoulrebel671  Tommie/SoulRebel671  2021-02-16   \n",
       "704  1360577851137929216   neilecollins         Neil Collins  2021-02-13   \n",
       "760  1360307023116664832      parkerpmp       Kevin C Parker  2021-02-12   \n",
       "\n",
       "         time  VBA Tweet  VA Tweet  VHA Tweet  \n",
       "86   19:32:28          1         0          0  \n",
       "230  09:05:31          1         1          0  \n",
       "454  00:09:33          1         0          1  \n",
       "704  08:13:32          1         1          1  \n",
       "760  14:17:22          1         1          0  "
      ]
     },
     "execution_count": 120,
     "metadata": {},
     "output_type": "execute_result"
    }
   ],
   "source": [
    "df_tweets_final[df_tweets_final['tweet'].str.contains(\"pandemic\")][:5]"
   ]
  },
  {
   "cell_type": "markdown",
   "metadata": {},
   "source": [
    "#### Create pre-processing helper function\n",
    "...details on the sub functions further below"
   ]
  },
  {
   "cell_type": "code",
   "execution_count": 115,
   "metadata": {},
   "outputs": [],
   "source": [
    "def update_base_table_for_NMF(df):\n",
    "    \n",
    "    # Pre-process data\n",
    "    df.tweet = df.tweet.map(no_rt_marker)\n",
    "    df.drop_duplicates(subset='tweet',inplace=True)\n",
    "    df['tweet'] = df.tweet.map(no_at_symbol)    # replace with a ' ', vs the rest of the replaces which will replace with ''\n",
    "    df['tweet'] = df.tweet.map(no_lb_symbol)    # replace with a ' ', vs the rest of the replaces which will replace with ''\n",
    "    df['tweet'] = df.tweet.map(punc_lower)\n",
    "    df['tweet'] = df.tweet.map(no_website)\n",
    "    df['tweet'] = df.tweet.map(SSA).map(SSA2).map(VBA).map(VBA2).map(VHA).map(VHA2).map(veteran_words).map(va_words).map(va_words2)\n",
    "    df['tweet'] = df.tweet.map(black_veterans_words)\n",
    "    df['tweet'] = df.tweet.map(covid_words) \n",
    "    df['tweet'] = df.tweet.map(vaccine_words) \n",
    "    df['tweet'] = df.tweet.map(alphanumeric)\n",
    "    df['tweet'] = df.tweet.apply(remove_emoji)\n",
    "        \n",
    "    return df.head()"
   ]
  },
  {
   "cell_type": "code",
   "execution_count": 116,
   "metadata": {},
   "outputs": [
    {
     "data": {
      "text/html": [
       "<div>\n",
       "<style scoped>\n",
       "    .dataframe tbody tr th:only-of-type {\n",
       "        vertical-align: middle;\n",
       "    }\n",
       "\n",
       "    .dataframe tbody tr th {\n",
       "        vertical-align: top;\n",
       "    }\n",
       "\n",
       "    .dataframe thead th {\n",
       "        text-align: right;\n",
       "    }\n",
       "</style>\n",
       "<table border=\"1\" class=\"dataframe\">\n",
       "  <thead>\n",
       "    <tr style=\"text-align: right;\">\n",
       "      <th></th>\n",
       "      <th>tweet</th>\n",
       "      <th>id</th>\n",
       "      <th>username</th>\n",
       "      <th>name</th>\n",
       "      <th>date</th>\n",
       "      <th>time</th>\n",
       "      <th>VBA Tweet</th>\n",
       "      <th>VA Tweet</th>\n",
       "      <th>VHA Tweet</th>\n",
       "    </tr>\n",
       "  </thead>\n",
       "  <tbody>\n",
       "    <tr>\n",
       "      <th>66</th>\n",
       "      <td>Veterans_Benefits_Admin   mr secretary mcdonough good afternoon as you can see from my attached documentation i have been fighting this issue of changing my discharge due to systemic racism for over  years</td>\n",
       "      <td>1361866444410155013</td>\n",
       "      <td>clickforjustice</td>\n",
       "      <td>clickforjustice</td>\n",
       "      <td>2021-02-16</td>\n",
       "      <td>21:33:57</td>\n",
       "      <td>1</td>\n",
       "      <td>0</td>\n",
       "      <td>0</td>\n",
       "    </tr>\n",
       "    <tr>\n",
       "      <th>70</th>\n",
       "      <td>Veterans_Benefits_Admin   in  howard became the first female fourstar admiral amp the first to command operational forces making her the highest ranking woman amp africanamerican in navy history after a remarkable career adm howard retired in  thank you for your …</td>\n",
       "      <td>1361854662488555525</td>\n",
       "      <td>lccc_sva</td>\n",
       "      <td>LCCC SVA</td>\n",
       "      <td>2021-02-16</td>\n",
       "      <td>20:47:08</td>\n",
       "      <td>1</td>\n",
       "      <td>0</td>\n",
       "      <td>0</td>\n",
       "    </tr>\n",
       "    <tr>\n",
       "      <th>74</th>\n",
       "      <td>Veterans_Benefits_Admin   vbatribute  trailblazer michelle howard set many firsts during her  career with  usnavy a veteran of the gulf war she served in operation desert shield and desert storm amp in  became the first africanamerican woman to …</td>\n",
       "      <td>1361854659409965057</td>\n",
       "      <td>lccc_sva</td>\n",
       "      <td>LCCC SVA</td>\n",
       "      <td>2021-02-16</td>\n",
       "      <td>20:47:07</td>\n",
       "      <td>1</td>\n",
       "      <td>0</td>\n",
       "      <td>0</td>\n",
       "    </tr>\n",
       "    <tr>\n",
       "      <th>78</th>\n",
       "      <td>in  howard became the first female fourstar admiral amp the first to command operational forces making her the highest ranking woman amp africanamerican in navy history after a remarkable career adm howard retired in  thank you for your service adm howard</td>\n",
       "      <td>1361842314264502273</td>\n",
       "      <td>vavetbenefits</td>\n",
       "      <td>Veterans Benefits</td>\n",
       "      <td>2021-02-16</td>\n",
       "      <td>19:58:04</td>\n",
       "      <td>1</td>\n",
       "      <td>0</td>\n",
       "      <td>0</td>\n",
       "    </tr>\n",
       "    <tr>\n",
       "      <th>82</th>\n",
       "      <td>vbatribute  trailblazer michelle howard set many firsts during her  career with  usnavy a veteran of the gulf war she served in operation desert shield and desert storm amp in  became the first africanamerican woman to command a navy ship the uss rushmore</td>\n",
       "      <td>1361842311911497731</td>\n",
       "      <td>vavetbenefits</td>\n",
       "      <td>Veterans Benefits</td>\n",
       "      <td>2021-02-16</td>\n",
       "      <td>19:58:03</td>\n",
       "      <td>1</td>\n",
       "      <td>0</td>\n",
       "      <td>0</td>\n",
       "    </tr>\n",
       "  </tbody>\n",
       "</table>\n",
       "</div>"
      ],
      "text/plain": [
       "                                                                                                                                                                                                                                                                       tweet  \\\n",
       "66                                                           Veterans_Benefits_Admin   mr secretary mcdonough good afternoon as you can see from my attached documentation i have been fighting this issue of changing my discharge due to systemic racism for over  years     \n",
       "70  Veterans_Benefits_Admin   in  howard became the first female fourstar admiral amp the first to command operational forces making her the highest ranking woman amp africanamerican in navy history after a remarkable career adm howard retired in  thank you for your …   \n",
       "74                  Veterans_Benefits_Admin   vbatribute  trailblazer michelle howard set many firsts during her  career with  usnavy a veteran of the gulf war she served in operation desert shield and desert storm amp in  became the first africanamerican woman to …     \n",
       "78           in  howard became the first female fourstar admiral amp the first to command operational forces making her the highest ranking woman amp africanamerican in navy history after a remarkable career adm howard retired in  thank you for your service adm howard   \n",
       "82        vbatribute  trailblazer michelle howard set many firsts during her  career with  usnavy a veteran of the gulf war she served in operation desert shield and desert storm amp in  became the first africanamerican woman to command a navy ship the uss rushmore      \n",
       "\n",
       "                     id         username               name        date  \\\n",
       "66  1361866444410155013  clickforjustice    clickforjustice  2021-02-16   \n",
       "70  1361854662488555525         lccc_sva           LCCC SVA  2021-02-16   \n",
       "74  1361854659409965057         lccc_sva           LCCC SVA  2021-02-16   \n",
       "78  1361842314264502273    vavetbenefits  Veterans Benefits  2021-02-16   \n",
       "82  1361842311911497731    vavetbenefits  Veterans Benefits  2021-02-16   \n",
       "\n",
       "        time  VBA Tweet  VA Tweet  VHA Tweet  \n",
       "66  21:33:57          1         0          0  \n",
       "70  20:47:08          1         0          0  \n",
       "74  20:47:07          1         0          0  \n",
       "78  19:58:04          1         0          0  \n",
       "82  19:58:03          1         0          0  "
      ]
     },
     "execution_count": 116,
     "metadata": {},
     "output_type": "execute_result"
    }
   ],
   "source": [
    "update_base_table_for_NMF(df_tweets_final)"
   ]
  },
  {
   "cell_type": "markdown",
   "metadata": {},
   "source": [
    "#### Pickle Updated Dataframe"
   ]
  },
  {
   "cell_type": "code",
   "execution_count": 121,
   "metadata": {},
   "outputs": [
    {
     "data": {
      "text/plain": [
       "(198669, 9)"
      ]
     },
     "execution_count": 121,
     "metadata": {},
     "output_type": "execute_result"
    }
   ],
   "source": [
    "df_tweets_final.shape"
   ]
  },
  {
   "cell_type": "code",
   "execution_count": 122,
   "metadata": {},
   "outputs": [],
   "source": [
    "pickle.dump(df_tweets_final, open(\"df_tweets_final_processed.p\", \"wb\" ) )"
   ]
  },
  {
   "cell_type": "code",
   "execution_count": 123,
   "metadata": {},
   "outputs": [],
   "source": [
    "df_tweets_final_processed = pickle.load( open( \"df_tweets_final_processed.p\", \"rb\" ) )"
   ]
  },
  {
   "cell_type": "markdown",
   "metadata": {},
   "source": [
    "___"
   ]
  },
  {
   "cell_type": "markdown",
   "metadata": {},
   "source": [
    "### ~ Data Cleaning Appendix ~"
   ]
  },
  {
   "cell_type": "markdown",
   "metadata": {},
   "source": [
    "#### Remove Duplicate Tweets Retweet Markers"
   ]
  },
  {
   "cell_type": "code",
   "execution_count": 50,
   "metadata": {},
   "outputs": [],
   "source": [
    "no_rt_marker = lambda x: re.sub(r\"RT @\", '',x)"
   ]
  },
  {
   "cell_type": "code",
   "execution_count": 51,
   "metadata": {},
   "outputs": [],
   "source": [
    "#df_tweets_2_c['tweet'] = df_tweets_2_c.tweet.map(no_rt_marker)"
   ]
  },
  {
   "cell_type": "code",
   "execution_count": 52,
   "metadata": {},
   "outputs": [],
   "source": [
    "#df_tweets_2_c.drop_duplicates(subset='tweet',inplace=True)"
   ]
  },
  {
   "cell_type": "markdown",
   "metadata": {},
   "source": [
    "#### Alpha Numeric and Punctuation Adjustments\n",
    "Will leave alpha-numeric for first run"
   ]
  },
  {
   "cell_type": "code",
   "execution_count": 53,
   "metadata": {},
   "outputs": [],
   "source": [
    "alphanumeric = lambda x: re.sub('\\w*\\d\\w*', '', x)\n",
    "punc_lower = lambda x: re.sub('[%s]' % re.escape(string.punctuation), '', x.lower())"
   ]
  },
  {
   "cell_type": "code",
   "execution_count": 54,
   "metadata": {},
   "outputs": [],
   "source": [
    "# regex = r\"(?<!\\d)[.,;:](?!\\d)\"\n",
    "# test_str = \"This is a 1example of the text. But, it only is 2.5 percent of all data\"\n",
    "# remove = re.sub(regex, \"\", test_str, 0)"
   ]
  },
  {
   "cell_type": "code",
   "execution_count": 55,
   "metadata": {
    "scrolled": true
   },
   "outputs": [],
   "source": [
    "#df_tweets_2_c['tweet'] = df_tweets_2_c.tweet.map(punc_lower)"
   ]
  },
  {
   "cell_type": "markdown",
   "metadata": {},
   "source": [
    "#### Remove Websites"
   ]
  },
  {
   "cell_type": "code",
   "execution_count": 56,
   "metadata": {},
   "outputs": [],
   "source": [
    "no_website = lambda x: re.sub(r\"http\\S+\", '', x)"
   ]
  },
  {
   "cell_type": "code",
   "execution_count": 57,
   "metadata": {},
   "outputs": [],
   "source": [
    "#df_tweets_2_c['tweet'] = df_tweets_2_c.tweet.map(no_website)"
   ]
  },
  {
   "cell_type": "markdown",
   "metadata": {},
   "source": [
    "#### Remove Other Typical Twitter Elements (If Still Present)"
   ]
  },
  {
   "cell_type": "code",
   "execution_count": 58,
   "metadata": {},
   "outputs": [],
   "source": [
    "no_at_symbol = lambda x: re.sub(r\"@\", ' ', x)"
   ]
  },
  {
   "cell_type": "code",
   "execution_count": 59,
   "metadata": {},
   "outputs": [],
   "source": [
    "no_lb_symbol = lambda x: re.sub(r\"#\", ' ', x)"
   ]
  },
  {
   "cell_type": "code",
   "execution_count": 60,
   "metadata": {},
   "outputs": [],
   "source": [
    "#remove_department_of_va = lambda x: re.sub(r\"departmentofva\", '', x)"
   ]
  },
  {
   "cell_type": "markdown",
   "metadata": {},
   "source": [
    "#### Create Columns for VA, VBA and VHA Original Tweets"
   ]
  },
  {
   "cell_type": "code",
   "execution_count": null,
   "metadata": {},
   "outputs": [],
   "source": []
  },
  {
   "cell_type": "markdown",
   "metadata": {},
   "source": [
    "#### Replace Named Groups"
   ]
  },
  {
   "cell_type": "code",
   "execution_count": 100,
   "metadata": {},
   "outputs": [],
   "source": [
    "ssa_word_list = ['social security', 'socialsecurity']\n",
    "ssa_word_list2 = [' ss ',' ssa ']\n",
    "vba_word_list = ['vavetbenefits','veterans benefits administration', \n",
    "                 'veteranbenefitsadministration']\n",
    "vba_word_list2 = [' vba ']\n",
    "vha_word_list = ['veteranshealth','veterans health administration']\n",
    "vha_word_list2 = [' vha ']\n",
    "veteran_word_list = ['i am a veteran','iamaveteran', 'i am a vet','im a vet']\n",
    "va_word_list = ['deptvetaffairs']\n",
    "va_word_list2 = ['the va ']\n",
    "black_veterans = ['black veterans','black veteran','black vets','blackvets','blackveterans']\n",
    "covid_list = ['covidpandemic','covid pandemic','covid','coronavirus','covid19','covid-19','covid 19','the pandemic','this pandemic']\n",
    "vaccine_list = ['coronavirus_pandemicvaccine','covid19vaccine','covidvaccine','covid19 vaccine','covid-19 vaccine','covid19vaccination','covid vaccine','covid19 vaccine',\n",
    "          'covid-19 vaccines','coronavirus_pandemic vaccine','coronavaccine', 'the vaccine']\n"
   ]
  },
  {
   "cell_type": "code",
   "execution_count": 101,
   "metadata": {},
   "outputs": [],
   "source": [
    "#res = re.sub(\"|\".join(sorted(ssa_word_list, key = len, reverse = True)), repl_wrd, test_str) "
   ]
  },
  {
   "cell_type": "code",
   "execution_count": 102,
   "metadata": {},
   "outputs": [],
   "source": [
    "SSA = lambda x: re.sub(\"|\".join(sorted(ssa_word_list, key = len, reverse = True)), \n",
    "                       'Social_Security', x)"
   ]
  },
  {
   "cell_type": "code",
   "execution_count": 103,
   "metadata": {},
   "outputs": [],
   "source": [
    "SSA2 = lambda x: re.sub(\"|\".join(sorted(ssa_word_list2, key = len, reverse = True)), \n",
    "                       ' Social_Security ', x)"
   ]
  },
  {
   "cell_type": "code",
   "execution_count": 104,
   "metadata": {},
   "outputs": [],
   "source": [
    "VBA = lambda x: re.sub(\"|\".join(sorted(vba_word_list, key = len, reverse = True)), \n",
    "                       'Veterans_Benefits_Admin', x)"
   ]
  },
  {
   "cell_type": "code",
   "execution_count": 105,
   "metadata": {},
   "outputs": [],
   "source": [
    "VBA2 = lambda x: re.sub(\"|\".join(sorted(vba_word_list2, key = len, reverse = True)), \n",
    "                       ' Veterans_Benefits_Admin ', x)"
   ]
  },
  {
   "cell_type": "code",
   "execution_count": 106,
   "metadata": {},
   "outputs": [],
   "source": [
    "VHA = lambda x: re.sub(\"|\".join(sorted(vha_word_list, key = len, reverse = True)), \n",
    "                       'Veterans_Health_Admin', x)"
   ]
  },
  {
   "cell_type": "code",
   "execution_count": 107,
   "metadata": {},
   "outputs": [],
   "source": [
    "VHA2 = lambda x: re.sub(\"|\".join(sorted(vha_word_list2, key = len, reverse = True)), \n",
    "                       ' Veterans_Health_Admin ', x)"
   ]
  },
  {
   "cell_type": "code",
   "execution_count": 108,
   "metadata": {},
   "outputs": [],
   "source": [
    "veteran_words = lambda x: re.sub(\"|\".join(sorted(veteran_word_list, key = len, reverse = True)), \n",
    "                       'i_am_a_veteran', x)"
   ]
  },
  {
   "cell_type": "code",
   "execution_count": 109,
   "metadata": {},
   "outputs": [],
   "source": [
    "va_words = lambda x: re.sub(\"|\".join(sorted(va_word_list, key = len, reverse = True)), \n",
    "                       'department_of_va', x)"
   ]
  },
  {
   "cell_type": "code",
   "execution_count": 110,
   "metadata": {},
   "outputs": [],
   "source": [
    "va_words2 = lambda x: re.sub(\"|\".join(sorted(va_word_list2, key = len, reverse = True)), \n",
    "                       'department_of_va ', x)"
   ]
  },
  {
   "cell_type": "code",
   "execution_count": 111,
   "metadata": {},
   "outputs": [],
   "source": [
    "black_veterans_words = lambda x: re.sub(\"|\".join(sorted(black_veterans, key = len, reverse = True)), \n",
    "                       'black_veterans', x)"
   ]
  },
  {
   "cell_type": "code",
   "execution_count": 112,
   "metadata": {},
   "outputs": [],
   "source": [
    "covid_words = lambda x: re.sub(\"|\".join(sorted(covid_list, key = len, reverse = True)), \n",
    "                       'coronavirus_pandemic', x)"
   ]
  },
  {
   "cell_type": "code",
   "execution_count": 113,
   "metadata": {},
   "outputs": [],
   "source": [
    "vaccine_words = lambda x: re.sub(\"|\".join(sorted(vaccine_list, key = len, reverse = True)), \n",
    "                       'coronavirus_pandemic vaccine', x)"
   ]
  },
  {
   "cell_type": "markdown",
   "metadata": {},
   "source": [
    "#### Remove Emojis"
   ]
  },
  {
   "cell_type": "code",
   "execution_count": 114,
   "metadata": {},
   "outputs": [],
   "source": [
    "def remove_emoji(string):\n",
    "    emoji_pattern = re.compile(\"[\"\n",
    "                               u\"\\U0001F600-\\U0001F64F\"  # emoticons\n",
    "                               u\"\\U0001F300-\\U0001F5FF\"  # symbols & pictographs\n",
    "                               u\"\\U0001F680-\\U0001F6FF\"  # transport & map symbols\n",
    "                               u\"\\U0001F1E0-\\U0001F1FF\"  # flags (iOS)\n",
    "                               u\"\\U00002500-\\U00002BEF\"  # chinese char\n",
    "                               u\"\\U00002702-\\U000027B0\"\n",
    "                               u\"\\U00002702-\\U000027B0\"\n",
    "                               u\"\\U000024C2-\\U0001F251\"\n",
    "                               u\"\\U0001f926-\\U0001f937\"\n",
    "                               u\"\\U00010000-\\U0010ffff\"\n",
    "                               u\"\\u2640-\\u2642\"\n",
    "                               u\"\\u2600-\\u2B55\"\n",
    "                               u\"\\u200d\"\n",
    "                               u\"\\u23cf\"\n",
    "                               u\"\\u23e9\"\n",
    "                               u\"\\u231a\"\n",
    "                               u\"\\ufe0f\"  # dingbats\n",
    "                               u\"\\u3030\"\n",
    "                               \"]+\", flags=re.UNICODE)\n",
    "    return emoji_pattern.sub(r'', string)"
   ]
  },
  {
   "cell_type": "code",
   "execution_count": 76,
   "metadata": {},
   "outputs": [
    {
     "data": {
      "text/plain": [
       "'patience Veterans_Benefitsssss_Admin department_of_va Veterans_Health_Admin'"
      ]
     },
     "execution_count": 76,
     "metadata": {},
     "output_type": "execute_result"
    }
   ],
   "source": [
    "remove_emoji('patience🤦‍ Veterans_Benefitsssss_Admin 🙏depar🙏tment_of_va Veterans_Health_Admin')\n",
    "#emoji(\"Hi, I am Emoji  😜\")"
   ]
  },
  {
   "cell_type": "markdown",
   "metadata": {},
   "source": [
    "#### Identify Stop Words"
   ]
  },
  {
   "cell_type": "code",
   "execution_count": 38,
   "metadata": {},
   "outputs": [],
   "source": [
    "from sklearn.feature_extraction import text "
   ]
  },
  {
   "cell_type": "code",
   "execution_count": 39,
   "metadata": {},
   "outputs": [],
   "source": [
    "additional_stop_words = ['rt','vets','vet','veteran','veterans']\n",
    "additional_stop_words2 = ['rt','vets','vet','veteran','veterans','Veterans_Benefits_Admin','veterans_benefits_admin', 'veterans_health_admin',\n",
    "                          'Veterans_Health_Admin','department_of_va','veteransbenefitsadmin departmentofva', \n",
    "                          'veteransbenefitsadmin departmentofva veterans_health_adminadminadminadminadmin', \n",
    "                          'departmentofva veterans_health_adminadminadminadminadmin', 'veteransbenefitsadmin', \n",
    "                          'veterans_health_adminadminadminadminadmin', 'departmentofva','va']\n",
    "\n",
    "stop_wordz = text.ENGLISH_STOP_WORDS.union(additional_stop_words)\n",
    "stop_wordz2 = text.ENGLISH_STOP_WORDS.union(additional_stop_words2)"
   ]
  },
  {
   "cell_type": "code",
   "execution_count": null,
   "metadata": {},
   "outputs": [],
   "source": []
  }
 ],
 "metadata": {
  "kernelspec": {
   "display_name": "Python 3",
   "language": "python",
   "name": "python3"
  },
  "language_info": {
   "codemirror_mode": {
    "name": "ipython",
    "version": 3
   },
   "file_extension": ".py",
   "mimetype": "text/x-python",
   "name": "python",
   "nbconvert_exporter": "python",
   "pygments_lexer": "ipython3",
   "version": "3.8.5"
  }
 },
 "nbformat": 4,
 "nbformat_minor": 4
}
